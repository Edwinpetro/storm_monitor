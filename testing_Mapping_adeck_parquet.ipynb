{
 "cells": [
  {
   "cell_type": "code",
   "execution_count": 1,
   "metadata": {},
   "outputs": [],
   "source": [
    "import geopandas as gpd\n",
    "import pandas as pd\n",
    "import app_functions as f"
   ]
  },
  {
   "cell_type": "code",
   "execution_count": 11,
   "metadata": {},
   "outputs": [
    {
     "data": {
      "text/plain": [
       "Index(['Basin', 'CycloneNumber', 'DateTime', 'ModelNumber', 'ModelName',\n",
       "       'ForecastHour', 'Latitude', 'Longitude', 'MaxWindSpeed', 'MinPressure',\n",
       "       'WindRad1', 'WindRad2', 'WindRad3', 'WindRad4', 'StormType',\n",
       "       'Quadrant1', 'Quadrant2', 'Quadrant3', 'Quadrant4', 'Radius1',\n",
       "       'Radius2', 'Radius3', 'Radius4', 'StormName', 'Unused1', 'Unused2',\n",
       "       'ExtraField1', 'ExtraField2', 'ExtraField3', 'ExtraField4',\n",
       "       'ExtraField5', 'ExtraField6', 'ExtraField7', 'ExtraField8',\n",
       "       'ExtraField9', 'ExtraField10', 'ExtraField11', 'ExtraField12',\n",
       "       'ExtraField13', 'ExtraField14', 'MaxWindSpeed_mph', 'ValidTime',\n",
       "       'Category_based_on_pressure', 'Category_number_pressure_based',\n",
       "       'Category_based_on_windspeed', 'Category_number_windspeed_based',\n",
       "       'maximum_category', 'geometry', 'Category'],\n",
       "      dtype='object')"
      ]
     },
     "execution_count": 11,
     "metadata": {},
     "output_type": "execute_result"
    }
   ],
   "source": [
    "dat=gpd.read_parquet('./forecast_data_parquet/aio042024.parquet')\n",
    "dat.columns\n",
    "#dat.head()\n",
    "#dat.geometry"
   ]
  },
  {
   "cell_type": "code",
   "execution_count": 21,
   "metadata": {},
   "outputs": [
    {
     "data": {
      "text/plain": [
       "array(['CARQ', 'AC00', 'AEMN', 'AP01', 'AP02', 'AP03', 'AP04', 'AP05',\n",
       "       'AP06', 'AP07', 'AP08', 'AP09', 'AP10', 'AP11', 'AP12', 'AP13',\n",
       "       'AP14', 'AP15', 'AP16', 'AP17', 'AP18', 'AP19', 'AP20', 'AP21',\n",
       "       'AP22', 'AP23', 'AP24', 'AP25', 'AP26', 'AP27', 'AP28', 'AP29',\n",
       "       'AP30', 'AVNX', 'CHIP', 'CHP2', 'CHP3', 'CHP4', 'CHP5', 'CHP6',\n",
       "       'CHP7'], dtype=object)"
      ]
     },
     "execution_count": 21,
     "metadata": {},
     "output_type": "execute_result"
    }
   ],
   "source": [
    "adeck_gdf=gpd.read_parquet('./forecast_data_parquet/aio042024.parquet')\n",
    "\n",
    "selected_forecast_datetime=\"2024120106\"\n",
    "selected_forecast_datetime = pd.to_datetime(selected_forecast_datetime, format='%Y%m%d%H')\n",
    "selected_forecast_datetime=selected_forecast_datetime.tz_localize('UTC')\n",
    "\n",
    "adeck_gdf=adeck_gdf[adeck_gdf['DateTime']==selected_forecast_datetime]\n",
    "adeck_gdf['ModelName'].unique()\n",
    "#f.create_forecast_map_with_cone(adeck_gdf,selected_forecast_datetime)"
   ]
  },
  {
   "cell_type": "code",
   "execution_count": 15,
   "metadata": {},
   "outputs": [
    {
     "data": {
      "application/vnd.plotly.v1+json": {
       "config": {
        "plotlyServerURL": "https://plot.ly"
       },
       "data": [
        {
         "hoverinfo": "none",
         "lat": [
          15.9,
          16,
          16,
          16,
          16.2,
          16.5,
          17,
          17.9
         ],
         "line": {
          "color": "#ADD8E6",
          "width": 2.5
         },
         "lon": [
          -84.9,
          -85.1,
          -85.9,
          -86.3,
          -86.7,
          -87.5,
          -88.7,
          -90.1
         ],
         "mode": "lines",
         "showlegend": false,
         "type": "scattermapbox"
        },
        {
         "hoverinfo": "text",
         "lat": [
          17.9
         ],
         "lon": [
          -90.1
         ],
         "marker": {
          "color": "#A0A0A0",
          "size": 12
         },
         "mode": "markers",
         "name": "Tropical Depression",
         "text": [
          "Time: 2024-11-18 06:00 UTC<br>Wind Speed (mph): 34.5<br>Central Pressure (mb): 0<br>Category: Tropical Depression<br>Model: OFCL"
         ],
         "type": "scattermapbox"
        },
        {
         "hoverinfo": "text",
         "lat": [
          15.9,
          16,
          16,
          16,
          16.2,
          16.5,
          17
         ],
         "lon": [
          -84.9,
          -85.1,
          -85.9,
          -86.3,
          -86.7,
          -87.5,
          -88.7
         ],
         "marker": {
          "color": "#4682B4",
          "size": 12
         },
         "mode": "markers",
         "name": "Tropical Storm",
         "text": [
          "Time: 2024-11-15 06:00 UTC<br>Wind Speed (mph): 46.0<br>Central Pressure (mb): 0<br>Category: Tropical Storm<br>Model: OFCL",
          "Time: 2024-11-15 09:00 UTC<br>Wind Speed (mph): 46.0<br>Central Pressure (mb): 999<br>Category: Tropical Storm<br>Model: OFCL",
          "Time: 2024-11-15 18:00 UTC<br>Wind Speed (mph): 46.0<br>Central Pressure (mb): 0<br>Category: Tropical Storm<br>Model: OFCL",
          "Time: 2024-11-16 06:00 UTC<br>Wind Speed (mph): 46.0<br>Central Pressure (mb): 0<br>Category: Tropical Storm<br>Model: OFCL",
          "Time: 2024-11-16 18:00 UTC<br>Wind Speed (mph): 51.8<br>Central Pressure (mb): 0<br>Category: Tropical Storm<br>Model: OFCL",
          "Time: 2024-11-17 06:00 UTC<br>Wind Speed (mph): 51.8<br>Central Pressure (mb): 0<br>Category: Tropical Storm<br>Model: OFCL",
          "Time: 2024-11-17 18:00 UTC<br>Wind Speed (mph): 40.3<br>Central Pressure (mb): 0<br>Category: Tropical Storm<br>Model: OFCL"
         ],
         "type": "scattermapbox"
        },
        {
         "fill": "toself",
         "fillcolor": "rgba(105, 105, 105, 0.7)",
         "hoverinfo": "skip",
         "lat": [
          16.44596244351561,
          16.305849867363023,
          16.20273547995747,
          16.039893835736848,
          15.871044163508177,
          15.755989422894414,
          15.661940477375687,
          15.42767574563836,
          15.342394761095397,
          15.316651414488602,
          15.279134298621912,
          15.333385253449602,
          15.586904066644669,
          15.694505239204972,
          16.38241320443452,
          16.562352245207656,
          16.793262922942574,
          17.066421528261714,
          17.21567158364345,
          17.532455513287875,
          17.86352235583876,
          18.030487335065736,
          18.359307669105398,
          18.670829140761814,
          18.953016704521517,
          19.194883215158498,
          19.386934050313798,
          19.52156666782971,
          19.593403057561147,
          19.599533967733453,
          19.539657549825844,
          19.41610151582545,
          19.233726167521315,
          18.133458453600813,
          17.406297443051308,
          16.90999173682583,
          16.70888965278237,
          16.44596244351561
         ],
         "line": {
          "color": "darkgrey",
          "width": 3
         },
         "lon": [
          -85.74668552301146,
          -85.57964839251946,
          -85.50165484265948,
          -85.45190842143923,
          -85.47040022787093,
          -85.52764882299591,
          -85.61684837350317,
          -85.9088056020814,
          -86.09689688590261,
          -86.23299471315846,
          -86.70134747329061,
          -87.61549933115282,
          -89.12893173874082,
          -89.40532547299821,
          -90.90749081297267,
          -91.1991023565449,
          -91.4493010866768,
          -91.64857936445019,
          -91.7266427146673,
          -91.83578509571362,
          -91.87883725426093,
          -91.87485911493482,
          -91.8158436421103,
          -91.69057569888042,
          -91.50350289071861,
          -91.26154755924956,
          -90.97389171481602,
          -90.65165019441697,
          -90.30743766462594,
          -89.95484570994891,
          -89.60785684867442,
          -89.28023058218614,
          -88.98490054601918,
          -87.71837142130049,
          -86.72807618781547,
          -86.09214166478083,
          -85.90481986697861,
          -85.74668552301146
         ],
         "mode": "lines",
         "name": "Uncertainty Cone",
         "type": "scattermapbox",
         "visible": "legendonly"
        }
       ],
       "layout": {
        "images": [
         {
          "sizex": 0.1,
          "sizey": 0.12,
          "source": "./assets/LOCKTON_logo-white-footer.svg",
          "x": 0.01,
          "xanchor": "left",
          "xref": "paper",
          "y": 0.99,
          "yanchor": "top",
          "yref": "paper"
         }
        ],
        "legend": {
         "bgcolor": "black",
         "font": {
          "color": "white",
          "size": 14
         },
         "itemsizing": "constant",
         "title": {
          "font": {
           "color": "white",
           "family": "Arial",
           "size": 16,
           "weight": "bold"
          },
          "side": "top",
          "text": "LEGEND"
         },
         "x": 0.01,
         "xanchor": "left",
         "y": 0.85,
         "yanchor": "top"
        },
        "mapbox": {
         "center": {
          "lat": 16.4375,
          "lon": -86.9
         },
         "style": "carto-darkmatter",
         "zoom": 5
        },
        "margin": {
         "b": 0,
         "l": 0,
         "r": 0,
         "t": 0
        },
        "template": {
         "data": {
          "bar": [
           {
            "error_x": {
             "color": "#2a3f5f"
            },
            "error_y": {
             "color": "#2a3f5f"
            },
            "marker": {
             "line": {
              "color": "#E5ECF6",
              "width": 0.5
             },
             "pattern": {
              "fillmode": "overlay",
              "size": 10,
              "solidity": 0.2
             }
            },
            "type": "bar"
           }
          ],
          "barpolar": [
           {
            "marker": {
             "line": {
              "color": "#E5ECF6",
              "width": 0.5
             },
             "pattern": {
              "fillmode": "overlay",
              "size": 10,
              "solidity": 0.2
             }
            },
            "type": "barpolar"
           }
          ],
          "carpet": [
           {
            "aaxis": {
             "endlinecolor": "#2a3f5f",
             "gridcolor": "white",
             "linecolor": "white",
             "minorgridcolor": "white",
             "startlinecolor": "#2a3f5f"
            },
            "baxis": {
             "endlinecolor": "#2a3f5f",
             "gridcolor": "white",
             "linecolor": "white",
             "minorgridcolor": "white",
             "startlinecolor": "#2a3f5f"
            },
            "type": "carpet"
           }
          ],
          "choropleth": [
           {
            "colorbar": {
             "outlinewidth": 0,
             "ticks": ""
            },
            "type": "choropleth"
           }
          ],
          "contour": [
           {
            "colorbar": {
             "outlinewidth": 0,
             "ticks": ""
            },
            "colorscale": [
             [
              0,
              "#0d0887"
             ],
             [
              0.1111111111111111,
              "#46039f"
             ],
             [
              0.2222222222222222,
              "#7201a8"
             ],
             [
              0.3333333333333333,
              "#9c179e"
             ],
             [
              0.4444444444444444,
              "#bd3786"
             ],
             [
              0.5555555555555556,
              "#d8576b"
             ],
             [
              0.6666666666666666,
              "#ed7953"
             ],
             [
              0.7777777777777778,
              "#fb9f3a"
             ],
             [
              0.8888888888888888,
              "#fdca26"
             ],
             [
              1,
              "#f0f921"
             ]
            ],
            "type": "contour"
           }
          ],
          "contourcarpet": [
           {
            "colorbar": {
             "outlinewidth": 0,
             "ticks": ""
            },
            "type": "contourcarpet"
           }
          ],
          "heatmap": [
           {
            "colorbar": {
             "outlinewidth": 0,
             "ticks": ""
            },
            "colorscale": [
             [
              0,
              "#0d0887"
             ],
             [
              0.1111111111111111,
              "#46039f"
             ],
             [
              0.2222222222222222,
              "#7201a8"
             ],
             [
              0.3333333333333333,
              "#9c179e"
             ],
             [
              0.4444444444444444,
              "#bd3786"
             ],
             [
              0.5555555555555556,
              "#d8576b"
             ],
             [
              0.6666666666666666,
              "#ed7953"
             ],
             [
              0.7777777777777778,
              "#fb9f3a"
             ],
             [
              0.8888888888888888,
              "#fdca26"
             ],
             [
              1,
              "#f0f921"
             ]
            ],
            "type": "heatmap"
           }
          ],
          "heatmapgl": [
           {
            "colorbar": {
             "outlinewidth": 0,
             "ticks": ""
            },
            "colorscale": [
             [
              0,
              "#0d0887"
             ],
             [
              0.1111111111111111,
              "#46039f"
             ],
             [
              0.2222222222222222,
              "#7201a8"
             ],
             [
              0.3333333333333333,
              "#9c179e"
             ],
             [
              0.4444444444444444,
              "#bd3786"
             ],
             [
              0.5555555555555556,
              "#d8576b"
             ],
             [
              0.6666666666666666,
              "#ed7953"
             ],
             [
              0.7777777777777778,
              "#fb9f3a"
             ],
             [
              0.8888888888888888,
              "#fdca26"
             ],
             [
              1,
              "#f0f921"
             ]
            ],
            "type": "heatmapgl"
           }
          ],
          "histogram": [
           {
            "marker": {
             "pattern": {
              "fillmode": "overlay",
              "size": 10,
              "solidity": 0.2
             }
            },
            "type": "histogram"
           }
          ],
          "histogram2d": [
           {
            "colorbar": {
             "outlinewidth": 0,
             "ticks": ""
            },
            "colorscale": [
             [
              0,
              "#0d0887"
             ],
             [
              0.1111111111111111,
              "#46039f"
             ],
             [
              0.2222222222222222,
              "#7201a8"
             ],
             [
              0.3333333333333333,
              "#9c179e"
             ],
             [
              0.4444444444444444,
              "#bd3786"
             ],
             [
              0.5555555555555556,
              "#d8576b"
             ],
             [
              0.6666666666666666,
              "#ed7953"
             ],
             [
              0.7777777777777778,
              "#fb9f3a"
             ],
             [
              0.8888888888888888,
              "#fdca26"
             ],
             [
              1,
              "#f0f921"
             ]
            ],
            "type": "histogram2d"
           }
          ],
          "histogram2dcontour": [
           {
            "colorbar": {
             "outlinewidth": 0,
             "ticks": ""
            },
            "colorscale": [
             [
              0,
              "#0d0887"
             ],
             [
              0.1111111111111111,
              "#46039f"
             ],
             [
              0.2222222222222222,
              "#7201a8"
             ],
             [
              0.3333333333333333,
              "#9c179e"
             ],
             [
              0.4444444444444444,
              "#bd3786"
             ],
             [
              0.5555555555555556,
              "#d8576b"
             ],
             [
              0.6666666666666666,
              "#ed7953"
             ],
             [
              0.7777777777777778,
              "#fb9f3a"
             ],
             [
              0.8888888888888888,
              "#fdca26"
             ],
             [
              1,
              "#f0f921"
             ]
            ],
            "type": "histogram2dcontour"
           }
          ],
          "mesh3d": [
           {
            "colorbar": {
             "outlinewidth": 0,
             "ticks": ""
            },
            "type": "mesh3d"
           }
          ],
          "parcoords": [
           {
            "line": {
             "colorbar": {
              "outlinewidth": 0,
              "ticks": ""
             }
            },
            "type": "parcoords"
           }
          ],
          "pie": [
           {
            "automargin": true,
            "type": "pie"
           }
          ],
          "scatter": [
           {
            "fillpattern": {
             "fillmode": "overlay",
             "size": 10,
             "solidity": 0.2
            },
            "type": "scatter"
           }
          ],
          "scatter3d": [
           {
            "line": {
             "colorbar": {
              "outlinewidth": 0,
              "ticks": ""
             }
            },
            "marker": {
             "colorbar": {
              "outlinewidth": 0,
              "ticks": ""
             }
            },
            "type": "scatter3d"
           }
          ],
          "scattercarpet": [
           {
            "marker": {
             "colorbar": {
              "outlinewidth": 0,
              "ticks": ""
             }
            },
            "type": "scattercarpet"
           }
          ],
          "scattergeo": [
           {
            "marker": {
             "colorbar": {
              "outlinewidth": 0,
              "ticks": ""
             }
            },
            "type": "scattergeo"
           }
          ],
          "scattergl": [
           {
            "marker": {
             "colorbar": {
              "outlinewidth": 0,
              "ticks": ""
             }
            },
            "type": "scattergl"
           }
          ],
          "scattermapbox": [
           {
            "marker": {
             "colorbar": {
              "outlinewidth": 0,
              "ticks": ""
             }
            },
            "type": "scattermapbox"
           }
          ],
          "scatterpolar": [
           {
            "marker": {
             "colorbar": {
              "outlinewidth": 0,
              "ticks": ""
             }
            },
            "type": "scatterpolar"
           }
          ],
          "scatterpolargl": [
           {
            "marker": {
             "colorbar": {
              "outlinewidth": 0,
              "ticks": ""
             }
            },
            "type": "scatterpolargl"
           }
          ],
          "scatterternary": [
           {
            "marker": {
             "colorbar": {
              "outlinewidth": 0,
              "ticks": ""
             }
            },
            "type": "scatterternary"
           }
          ],
          "surface": [
           {
            "colorbar": {
             "outlinewidth": 0,
             "ticks": ""
            },
            "colorscale": [
             [
              0,
              "#0d0887"
             ],
             [
              0.1111111111111111,
              "#46039f"
             ],
             [
              0.2222222222222222,
              "#7201a8"
             ],
             [
              0.3333333333333333,
              "#9c179e"
             ],
             [
              0.4444444444444444,
              "#bd3786"
             ],
             [
              0.5555555555555556,
              "#d8576b"
             ],
             [
              0.6666666666666666,
              "#ed7953"
             ],
             [
              0.7777777777777778,
              "#fb9f3a"
             ],
             [
              0.8888888888888888,
              "#fdca26"
             ],
             [
              1,
              "#f0f921"
             ]
            ],
            "type": "surface"
           }
          ],
          "table": [
           {
            "cells": {
             "fill": {
              "color": "#EBF0F8"
             },
             "line": {
              "color": "white"
             }
            },
            "header": {
             "fill": {
              "color": "#C8D4E3"
             },
             "line": {
              "color": "white"
             }
            },
            "type": "table"
           }
          ]
         },
         "layout": {
          "annotationdefaults": {
           "arrowcolor": "#2a3f5f",
           "arrowhead": 0,
           "arrowwidth": 1
          },
          "autotypenumbers": "strict",
          "coloraxis": {
           "colorbar": {
            "outlinewidth": 0,
            "ticks": ""
           }
          },
          "colorscale": {
           "diverging": [
            [
             0,
             "#8e0152"
            ],
            [
             0.1,
             "#c51b7d"
            ],
            [
             0.2,
             "#de77ae"
            ],
            [
             0.3,
             "#f1b6da"
            ],
            [
             0.4,
             "#fde0ef"
            ],
            [
             0.5,
             "#f7f7f7"
            ],
            [
             0.6,
             "#e6f5d0"
            ],
            [
             0.7,
             "#b8e186"
            ],
            [
             0.8,
             "#7fbc41"
            ],
            [
             0.9,
             "#4d9221"
            ],
            [
             1,
             "#276419"
            ]
           ],
           "sequential": [
            [
             0,
             "#0d0887"
            ],
            [
             0.1111111111111111,
             "#46039f"
            ],
            [
             0.2222222222222222,
             "#7201a8"
            ],
            [
             0.3333333333333333,
             "#9c179e"
            ],
            [
             0.4444444444444444,
             "#bd3786"
            ],
            [
             0.5555555555555556,
             "#d8576b"
            ],
            [
             0.6666666666666666,
             "#ed7953"
            ],
            [
             0.7777777777777778,
             "#fb9f3a"
            ],
            [
             0.8888888888888888,
             "#fdca26"
            ],
            [
             1,
             "#f0f921"
            ]
           ],
           "sequentialminus": [
            [
             0,
             "#0d0887"
            ],
            [
             0.1111111111111111,
             "#46039f"
            ],
            [
             0.2222222222222222,
             "#7201a8"
            ],
            [
             0.3333333333333333,
             "#9c179e"
            ],
            [
             0.4444444444444444,
             "#bd3786"
            ],
            [
             0.5555555555555556,
             "#d8576b"
            ],
            [
             0.6666666666666666,
             "#ed7953"
            ],
            [
             0.7777777777777778,
             "#fb9f3a"
            ],
            [
             0.8888888888888888,
             "#fdca26"
            ],
            [
             1,
             "#f0f921"
            ]
           ]
          },
          "colorway": [
           "#636efa",
           "#EF553B",
           "#00cc96",
           "#ab63fa",
           "#FFA15A",
           "#19d3f3",
           "#FF6692",
           "#B6E880",
           "#FF97FF",
           "#FECB52"
          ],
          "font": {
           "color": "#2a3f5f"
          },
          "geo": {
           "bgcolor": "white",
           "lakecolor": "white",
           "landcolor": "#E5ECF6",
           "showlakes": true,
           "showland": true,
           "subunitcolor": "white"
          },
          "hoverlabel": {
           "align": "left"
          },
          "hovermode": "closest",
          "mapbox": {
           "style": "light"
          },
          "paper_bgcolor": "white",
          "plot_bgcolor": "#E5ECF6",
          "polar": {
           "angularaxis": {
            "gridcolor": "white",
            "linecolor": "white",
            "ticks": ""
           },
           "bgcolor": "#E5ECF6",
           "radialaxis": {
            "gridcolor": "white",
            "linecolor": "white",
            "ticks": ""
           }
          },
          "scene": {
           "xaxis": {
            "backgroundcolor": "#E5ECF6",
            "gridcolor": "white",
            "gridwidth": 2,
            "linecolor": "white",
            "showbackground": true,
            "ticks": "",
            "zerolinecolor": "white"
           },
           "yaxis": {
            "backgroundcolor": "#E5ECF6",
            "gridcolor": "white",
            "gridwidth": 2,
            "linecolor": "white",
            "showbackground": true,
            "ticks": "",
            "zerolinecolor": "white"
           },
           "zaxis": {
            "backgroundcolor": "#E5ECF6",
            "gridcolor": "white",
            "gridwidth": 2,
            "linecolor": "white",
            "showbackground": true,
            "ticks": "",
            "zerolinecolor": "white"
           }
          },
          "shapedefaults": {
           "line": {
            "color": "#2a3f5f"
           }
          },
          "ternary": {
           "aaxis": {
            "gridcolor": "white",
            "linecolor": "white",
            "ticks": ""
           },
           "baxis": {
            "gridcolor": "white",
            "linecolor": "white",
            "ticks": ""
           },
           "bgcolor": "#E5ECF6",
           "caxis": {
            "gridcolor": "white",
            "linecolor": "white",
            "ticks": ""
           }
          },
          "title": {
           "x": 0.05
          },
          "xaxis": {
           "automargin": true,
           "gridcolor": "white",
           "linecolor": "white",
           "ticks": "",
           "title": {
            "standoff": 15
           },
           "zerolinecolor": "white",
           "zerolinewidth": 2
          },
          "yaxis": {
           "automargin": true,
           "gridcolor": "white",
           "linecolor": "white",
           "ticks": "",
           "title": {
            "standoff": 15
           },
           "zerolinecolor": "white",
           "zerolinewidth": 2
          }
         }
        },
        "uirevision": true
       }
      }
     },
     "metadata": {},
     "output_type": "display_data"
    }
   ],
   "source": [
    "adeck_ofcl=adeck_gdf[adeck_gdf['ModelName']=='OFCL']\n",
    "adeck_ofcl.head(3)\n",
    "f.create_forecast_map_with_cone(adeck_ofcl,selected_forecast_datetime)\n"
   ]
  },
  {
   "cell_type": "code",
   "execution_count": 7,
   "metadata": {},
   "outputs": [
    {
     "data": {
      "text/html": [
       "<div>\n",
       "<style scoped>\n",
       "    .dataframe tbody tr th:only-of-type {\n",
       "        vertical-align: middle;\n",
       "    }\n",
       "\n",
       "    .dataframe tbody tr th {\n",
       "        vertical-align: top;\n",
       "    }\n",
       "\n",
       "    .dataframe thead th {\n",
       "        text-align: right;\n",
       "    }\n",
       "</style>\n",
       "<table border=\"1\" class=\"dataframe\">\n",
       "  <thead>\n",
       "    <tr style=\"text-align: right;\">\n",
       "      <th></th>\n",
       "      <th>0</th>\n",
       "      <th>1</th>\n",
       "    </tr>\n",
       "  </thead>\n",
       "  <tbody>\n",
       "    <tr>\n",
       "      <th>0</th>\n",
       "      <td>Tropical Depression</td>\n",
       "      <td>-1</td>\n",
       "    </tr>\n",
       "    <tr>\n",
       "      <th>1</th>\n",
       "      <td>Tropical Depression</td>\n",
       "      <td>-1</td>\n",
       "    </tr>\n",
       "    <tr>\n",
       "      <th>2</th>\n",
       "      <td>Tropical Depression</td>\n",
       "      <td>-1</td>\n",
       "    </tr>\n",
       "    <tr>\n",
       "      <th>3</th>\n",
       "      <td>Tropical Depression</td>\n",
       "      <td>-1</td>\n",
       "    </tr>\n",
       "    <tr>\n",
       "      <th>4</th>\n",
       "      <td>Tropical Depression</td>\n",
       "      <td>-1</td>\n",
       "    </tr>\n",
       "    <tr>\n",
       "      <th>...</th>\n",
       "      <td>...</td>\n",
       "      <td>...</td>\n",
       "    </tr>\n",
       "    <tr>\n",
       "      <th>205306</th>\n",
       "      <td>Tropical Depression</td>\n",
       "      <td>-1</td>\n",
       "    </tr>\n",
       "    <tr>\n",
       "      <th>205307</th>\n",
       "      <td>Tropical Depression</td>\n",
       "      <td>-1</td>\n",
       "    </tr>\n",
       "    <tr>\n",
       "      <th>205308</th>\n",
       "      <td>Tropical Depression</td>\n",
       "      <td>-1</td>\n",
       "    </tr>\n",
       "    <tr>\n",
       "      <th>205309</th>\n",
       "      <td>Tropical Depression</td>\n",
       "      <td>-1</td>\n",
       "    </tr>\n",
       "    <tr>\n",
       "      <th>205310</th>\n",
       "      <td>Tropical Depression</td>\n",
       "      <td>-1</td>\n",
       "    </tr>\n",
       "  </tbody>\n",
       "</table>\n",
       "<p>202992 rows × 2 columns</p>\n",
       "</div>"
      ],
      "text/plain": [
       "                          0  1\n",
       "0       Tropical Depression -1\n",
       "1       Tropical Depression -1\n",
       "2       Tropical Depression -1\n",
       "3       Tropical Depression -1\n",
       "4       Tropical Depression -1\n",
       "...                     ... ..\n",
       "205306  Tropical Depression -1\n",
       "205307  Tropical Depression -1\n",
       "205308  Tropical Depression -1\n",
       "205309  Tropical Depression -1\n",
       "205310  Tropical Depression -1\n",
       "\n",
       "[202992 rows x 2 columns]"
      ]
     },
     "execution_count": 7,
     "metadata": {},
     "output_type": "execute_result"
    }
   ],
   "source": [
    "adeck_gdf['MaxWindSpeed'].apply(f.wind_speed_to_category).apply(pd.Series)"
   ]
  },
  {
   "cell_type": "code",
   "execution_count": 14,
   "metadata": {},
   "outputs": [
    {
     "data": {
      "text/html": [
       "<div>\n",
       "<style scoped>\n",
       "    .dataframe tbody tr th:only-of-type {\n",
       "        vertical-align: middle;\n",
       "    }\n",
       "\n",
       "    .dataframe tbody tr th {\n",
       "        vertical-align: top;\n",
       "    }\n",
       "\n",
       "    .dataframe thead th {\n",
       "        text-align: right;\n",
       "    }\n",
       "</style>\n",
       "<table border=\"1\" class=\"dataframe\">\n",
       "  <thead>\n",
       "    <tr style=\"text-align: right;\">\n",
       "      <th></th>\n",
       "      <th>Basin</th>\n",
       "      <th>CycloneNumber</th>\n",
       "      <th>DateTime</th>\n",
       "      <th>ModelNumber</th>\n",
       "      <th>ModelName</th>\n",
       "      <th>ForecastHour</th>\n",
       "      <th>Latitude</th>\n",
       "      <th>Longitude</th>\n",
       "      <th>MaxWindSpeed</th>\n",
       "      <th>MinPressure</th>\n",
       "      <th>...</th>\n",
       "      <th>ExtraField20</th>\n",
       "      <th>MaxWindSpeed_mph</th>\n",
       "      <th>ValidTime</th>\n",
       "      <th>Category_based_on_pressure</th>\n",
       "      <th>Category_number_pressure_based</th>\n",
       "      <th>Category_based_on_windspeed</th>\n",
       "      <th>Category_number_windspeed_based</th>\n",
       "      <th>maximum_category</th>\n",
       "      <th>geometry</th>\n",
       "      <th>Category</th>\n",
       "    </tr>\n",
       "  </thead>\n",
       "  <tbody>\n",
       "    <tr>\n",
       "      <th>160582</th>\n",
       "      <td>AL</td>\n",
       "      <td>2</td>\n",
       "      <td>2024-07-06 06:00:00+00:00</td>\n",
       "      <td>3</td>\n",
       "      <td>AVNI</td>\n",
       "      <td>0</td>\n",
       "      <td>None</td>\n",
       "      <td>None</td>\n",
       "      <td>50</td>\n",
       "      <td>0</td>\n",
       "      <td>...</td>\n",
       "      <td>NaN</td>\n",
       "      <td>57.53900</td>\n",
       "      <td>2024-07-06 06:00:00+00:00</td>\n",
       "      <td>Category 5</td>\n",
       "      <td>5</td>\n",
       "      <td>Tropical Storm</td>\n",
       "      <td>0</td>\n",
       "      <td>5</td>\n",
       "      <td>POINT (-90.90000 22.00000)</td>\n",
       "      <td>0</td>\n",
       "    </tr>\n",
       "    <tr>\n",
       "      <th>160583</th>\n",
       "      <td>AL</td>\n",
       "      <td>2</td>\n",
       "      <td>2024-07-06 06:00:00+00:00</td>\n",
       "      <td>3</td>\n",
       "      <td>AVNI</td>\n",
       "      <td>12</td>\n",
       "      <td>None</td>\n",
       "      <td>None</td>\n",
       "      <td>45</td>\n",
       "      <td>0</td>\n",
       "      <td>...</td>\n",
       "      <td>NaN</td>\n",
       "      <td>51.78510</td>\n",
       "      <td>2024-07-06 18:00:00+00:00</td>\n",
       "      <td>Category 5</td>\n",
       "      <td>5</td>\n",
       "      <td>Tropical Storm</td>\n",
       "      <td>0</td>\n",
       "      <td>5</td>\n",
       "      <td>POINT (-92.70000 23.20000)</td>\n",
       "      <td>0</td>\n",
       "    </tr>\n",
       "    <tr>\n",
       "      <th>160584</th>\n",
       "      <td>AL</td>\n",
       "      <td>2</td>\n",
       "      <td>2024-07-06 06:00:00+00:00</td>\n",
       "      <td>3</td>\n",
       "      <td>AVNI</td>\n",
       "      <td>24</td>\n",
       "      <td>None</td>\n",
       "      <td>None</td>\n",
       "      <td>45</td>\n",
       "      <td>0</td>\n",
       "      <td>...</td>\n",
       "      <td>NaN</td>\n",
       "      <td>51.78510</td>\n",
       "      <td>2024-07-07 06:00:00+00:00</td>\n",
       "      <td>Category 5</td>\n",
       "      <td>5</td>\n",
       "      <td>Tropical Storm</td>\n",
       "      <td>0</td>\n",
       "      <td>5</td>\n",
       "      <td>POINT (-94.40000 24.50000)</td>\n",
       "      <td>0</td>\n",
       "    </tr>\n",
       "    <tr>\n",
       "      <th>160585</th>\n",
       "      <td>AL</td>\n",
       "      <td>2</td>\n",
       "      <td>2024-07-06 06:00:00+00:00</td>\n",
       "      <td>3</td>\n",
       "      <td>AVNI</td>\n",
       "      <td>36</td>\n",
       "      <td>None</td>\n",
       "      <td>None</td>\n",
       "      <td>46</td>\n",
       "      <td>0</td>\n",
       "      <td>...</td>\n",
       "      <td>NaN</td>\n",
       "      <td>52.93588</td>\n",
       "      <td>2024-07-07 18:00:00+00:00</td>\n",
       "      <td>Category 5</td>\n",
       "      <td>5</td>\n",
       "      <td>Tropical Storm</td>\n",
       "      <td>0</td>\n",
       "      <td>5</td>\n",
       "      <td>POINT (-95.70000 25.60000)</td>\n",
       "      <td>0</td>\n",
       "    </tr>\n",
       "    <tr>\n",
       "      <th>160586</th>\n",
       "      <td>AL</td>\n",
       "      <td>2</td>\n",
       "      <td>2024-07-06 06:00:00+00:00</td>\n",
       "      <td>3</td>\n",
       "      <td>AVNI</td>\n",
       "      <td>48</td>\n",
       "      <td>None</td>\n",
       "      <td>None</td>\n",
       "      <td>50</td>\n",
       "      <td>0</td>\n",
       "      <td>...</td>\n",
       "      <td>NaN</td>\n",
       "      <td>57.53900</td>\n",
       "      <td>2024-07-08 06:00:00+00:00</td>\n",
       "      <td>Category 5</td>\n",
       "      <td>5</td>\n",
       "      <td>Tropical Storm</td>\n",
       "      <td>0</td>\n",
       "      <td>5</td>\n",
       "      <td>POINT (-96.60000 27.00000)</td>\n",
       "      <td>0</td>\n",
       "    </tr>\n",
       "    <tr>\n",
       "      <th>...</th>\n",
       "      <td>...</td>\n",
       "      <td>...</td>\n",
       "      <td>...</td>\n",
       "      <td>...</td>\n",
       "      <td>...</td>\n",
       "      <td>...</td>\n",
       "      <td>...</td>\n",
       "      <td>...</td>\n",
       "      <td>...</td>\n",
       "      <td>...</td>\n",
       "      <td>...</td>\n",
       "      <td>...</td>\n",
       "      <td>...</td>\n",
       "      <td>...</td>\n",
       "      <td>...</td>\n",
       "      <td>...</td>\n",
       "      <td>...</td>\n",
       "      <td>...</td>\n",
       "      <td>...</td>\n",
       "      <td>...</td>\n",
       "      <td>...</td>\n",
       "    </tr>\n",
       "    <tr>\n",
       "      <th>161384</th>\n",
       "      <td>AL</td>\n",
       "      <td>2</td>\n",
       "      <td>2024-07-06 06:00:00+00:00</td>\n",
       "      <td>3</td>\n",
       "      <td>UKXI</td>\n",
       "      <td>48</td>\n",
       "      <td>None</td>\n",
       "      <td>None</td>\n",
       "      <td>33</td>\n",
       "      <td>0</td>\n",
       "      <td>...</td>\n",
       "      <td>NaN</td>\n",
       "      <td>37.97574</td>\n",
       "      <td>2024-07-08 06:00:00+00:00</td>\n",
       "      <td>Category 5</td>\n",
       "      <td>5</td>\n",
       "      <td>Tropical Depression</td>\n",
       "      <td>-1</td>\n",
       "      <td>5</td>\n",
       "      <td>POINT (-96.40000 26.40000)</td>\n",
       "      <td>-1</td>\n",
       "    </tr>\n",
       "    <tr>\n",
       "      <th>161385</th>\n",
       "      <td>AL</td>\n",
       "      <td>2</td>\n",
       "      <td>2024-07-06 06:00:00+00:00</td>\n",
       "      <td>3</td>\n",
       "      <td>UKXI</td>\n",
       "      <td>60</td>\n",
       "      <td>None</td>\n",
       "      <td>None</td>\n",
       "      <td>32</td>\n",
       "      <td>0</td>\n",
       "      <td>...</td>\n",
       "      <td>NaN</td>\n",
       "      <td>36.82496</td>\n",
       "      <td>2024-07-08 18:00:00+00:00</td>\n",
       "      <td>Category 5</td>\n",
       "      <td>5</td>\n",
       "      <td>Tropical Depression</td>\n",
       "      <td>-1</td>\n",
       "      <td>5</td>\n",
       "      <td>POINT (-97.10000 27.50000)</td>\n",
       "      <td>-1</td>\n",
       "    </tr>\n",
       "    <tr>\n",
       "      <th>161386</th>\n",
       "      <td>AL</td>\n",
       "      <td>2</td>\n",
       "      <td>2024-07-06 06:00:00+00:00</td>\n",
       "      <td>3</td>\n",
       "      <td>UKXI</td>\n",
       "      <td>72</td>\n",
       "      <td>None</td>\n",
       "      <td>None</td>\n",
       "      <td>32</td>\n",
       "      <td>0</td>\n",
       "      <td>...</td>\n",
       "      <td>NaN</td>\n",
       "      <td>36.82496</td>\n",
       "      <td>2024-07-09 06:00:00+00:00</td>\n",
       "      <td>Category 5</td>\n",
       "      <td>5</td>\n",
       "      <td>Tropical Depression</td>\n",
       "      <td>-1</td>\n",
       "      <td>5</td>\n",
       "      <td>POINT (-97.20000 28.80000)</td>\n",
       "      <td>-1</td>\n",
       "    </tr>\n",
       "    <tr>\n",
       "      <th>161387</th>\n",
       "      <td>AL</td>\n",
       "      <td>2</td>\n",
       "      <td>2024-07-06 06:00:00+00:00</td>\n",
       "      <td>3</td>\n",
       "      <td>UKXI</td>\n",
       "      <td>84</td>\n",
       "      <td>None</td>\n",
       "      <td>None</td>\n",
       "      <td>32</td>\n",
       "      <td>0</td>\n",
       "      <td>...</td>\n",
       "      <td>NaN</td>\n",
       "      <td>36.82496</td>\n",
       "      <td>2024-07-09 18:00:00+00:00</td>\n",
       "      <td>Category 5</td>\n",
       "      <td>5</td>\n",
       "      <td>Tropical Depression</td>\n",
       "      <td>-1</td>\n",
       "      <td>5</td>\n",
       "      <td>POINT (-96.30000 30.60000)</td>\n",
       "      <td>-1</td>\n",
       "    </tr>\n",
       "    <tr>\n",
       "      <th>161388</th>\n",
       "      <td>AL</td>\n",
       "      <td>2</td>\n",
       "      <td>2024-07-06 06:00:00+00:00</td>\n",
       "      <td>3</td>\n",
       "      <td>UKXI</td>\n",
       "      <td>96</td>\n",
       "      <td>None</td>\n",
       "      <td>None</td>\n",
       "      <td>32</td>\n",
       "      <td>0</td>\n",
       "      <td>...</td>\n",
       "      <td>NaN</td>\n",
       "      <td>36.82496</td>\n",
       "      <td>2024-07-10 06:00:00+00:00</td>\n",
       "      <td>Category 5</td>\n",
       "      <td>5</td>\n",
       "      <td>Tropical Depression</td>\n",
       "      <td>-1</td>\n",
       "      <td>5</td>\n",
       "      <td>POINT (-94.70000 32.80000)</td>\n",
       "      <td>-1</td>\n",
       "    </tr>\n",
       "  </tbody>\n",
       "</table>\n",
       "<p>149 rows × 55 columns</p>\n",
       "</div>"
      ],
      "text/plain": [
       "       Basin  CycloneNumber                  DateTime  ModelNumber ModelName  \\\n",
       "160582    AL              2 2024-07-06 06:00:00+00:00            3      AVNI   \n",
       "160583    AL              2 2024-07-06 06:00:00+00:00            3      AVNI   \n",
       "160584    AL              2 2024-07-06 06:00:00+00:00            3      AVNI   \n",
       "160585    AL              2 2024-07-06 06:00:00+00:00            3      AVNI   \n",
       "160586    AL              2 2024-07-06 06:00:00+00:00            3      AVNI   \n",
       "...      ...            ...                       ...          ...       ...   \n",
       "161384    AL              2 2024-07-06 06:00:00+00:00            3      UKXI   \n",
       "161385    AL              2 2024-07-06 06:00:00+00:00            3      UKXI   \n",
       "161386    AL              2 2024-07-06 06:00:00+00:00            3      UKXI   \n",
       "161387    AL              2 2024-07-06 06:00:00+00:00            3      UKXI   \n",
       "161388    AL              2 2024-07-06 06:00:00+00:00            3      UKXI   \n",
       "\n",
       "        ForecastHour Latitude Longitude  MaxWindSpeed  MinPressure  ...  \\\n",
       "160582             0     None      None            50            0  ...   \n",
       "160583            12     None      None            45            0  ...   \n",
       "160584            24     None      None            45            0  ...   \n",
       "160585            36     None      None            46            0  ...   \n",
       "160586            48     None      None            50            0  ...   \n",
       "...              ...      ...       ...           ...          ...  ...   \n",
       "161384            48     None      None            33            0  ...   \n",
       "161385            60     None      None            32            0  ...   \n",
       "161386            72     None      None            32            0  ...   \n",
       "161387            84     None      None            32            0  ...   \n",
       "161388            96     None      None            32            0  ...   \n",
       "\n",
       "       ExtraField20  MaxWindSpeed_mph                 ValidTime  \\\n",
       "160582          NaN          57.53900 2024-07-06 06:00:00+00:00   \n",
       "160583          NaN          51.78510 2024-07-06 18:00:00+00:00   \n",
       "160584          NaN          51.78510 2024-07-07 06:00:00+00:00   \n",
       "160585          NaN          52.93588 2024-07-07 18:00:00+00:00   \n",
       "160586          NaN          57.53900 2024-07-08 06:00:00+00:00   \n",
       "...             ...               ...                       ...   \n",
       "161384          NaN          37.97574 2024-07-08 06:00:00+00:00   \n",
       "161385          NaN          36.82496 2024-07-08 18:00:00+00:00   \n",
       "161386          NaN          36.82496 2024-07-09 06:00:00+00:00   \n",
       "161387          NaN          36.82496 2024-07-09 18:00:00+00:00   \n",
       "161388          NaN          36.82496 2024-07-10 06:00:00+00:00   \n",
       "\n",
       "        Category_based_on_pressure  Category_number_pressure_based  \\\n",
       "160582                  Category 5                               5   \n",
       "160583                  Category 5                               5   \n",
       "160584                  Category 5                               5   \n",
       "160585                  Category 5                               5   \n",
       "160586                  Category 5                               5   \n",
       "...                            ...                             ...   \n",
       "161384                  Category 5                               5   \n",
       "161385                  Category 5                               5   \n",
       "161386                  Category 5                               5   \n",
       "161387                  Category 5                               5   \n",
       "161388                  Category 5                               5   \n",
       "\n",
       "        Category_based_on_windspeed  Category_number_windspeed_based  \\\n",
       "160582               Tropical Storm                                0   \n",
       "160583               Tropical Storm                                0   \n",
       "160584               Tropical Storm                                0   \n",
       "160585               Tropical Storm                                0   \n",
       "160586               Tropical Storm                                0   \n",
       "...                             ...                              ...   \n",
       "161384          Tropical Depression                               -1   \n",
       "161385          Tropical Depression                               -1   \n",
       "161386          Tropical Depression                               -1   \n",
       "161387          Tropical Depression                               -1   \n",
       "161388          Tropical Depression                               -1   \n",
       "\n",
       "        maximum_category                    geometry Category  \n",
       "160582                 5  POINT (-90.90000 22.00000)        0  \n",
       "160583                 5  POINT (-92.70000 23.20000)        0  \n",
       "160584                 5  POINT (-94.40000 24.50000)        0  \n",
       "160585                 5  POINT (-95.70000 25.60000)        0  \n",
       "160586                 5  POINT (-96.60000 27.00000)        0  \n",
       "...                  ...                         ...      ...  \n",
       "161384                 5  POINT (-96.40000 26.40000)       -1  \n",
       "161385                 5  POINT (-97.10000 27.50000)       -1  \n",
       "161386                 5  POINT (-97.20000 28.80000)       -1  \n",
       "161387                 5  POINT (-96.30000 30.60000)       -1  \n",
       "161388                 5  POINT (-94.70000 32.80000)       -1  \n",
       "\n",
       "[149 rows x 55 columns]"
      ]
     },
     "execution_count": 14,
     "metadata": {},
     "output_type": "execute_result"
    }
   ],
   "source": [
    "from datetime import datetime, timedelta, timezone\n",
    "import plotly.graph_objects as go\n",
    "\n",
    "adeck_gdf = adeck_gdf[adeck_gdf['DateTime'] == selected_forecast_datetime]\n",
    "adeck_gdf\n",
    "min_valid_time = adeck_gdf['ValidTime'].min()\n",
    "max_time_limit = min_valid_time + timedelta(hours=120)\n",
    "adeck_gdf = adeck_gdf[adeck_gdf['ValidTime'] <= max_time_limit]\n",
    "adeck_gdf\n",
    "\n",
    "# List of models to keep (prioritized models)\n",
    "models_to_keep = ['OFCL', 'OFCI', 'AVNO', 'AVNI', 'AVNX', 'EGRR', 'EGRI', 'EGR2', \n",
    "                  'UKM', 'UKX', 'UKMI', 'UKXI', 'UKM2', 'UKX2', 'HWRF', 'HWFI', 'HWF2']\n",
    "\n",
    "adeck_gdf = adeck_gdf[adeck_gdf['ModelName'].isin(models_to_keep)]\n",
    "adeck_gdf\n",
    "\n"
   ]
  },
  {
   "cell_type": "code",
   "execution_count": 8,
   "metadata": {},
   "outputs": [
    {
     "data": {
      "text/html": [
       "<div>\n",
       "<style scoped>\n",
       "    .dataframe tbody tr th:only-of-type {\n",
       "        vertical-align: middle;\n",
       "    }\n",
       "\n",
       "    .dataframe tbody tr th {\n",
       "        vertical-align: top;\n",
       "    }\n",
       "\n",
       "    .dataframe thead th {\n",
       "        text-align: right;\n",
       "    }\n",
       "</style>\n",
       "<table border=\"1\" class=\"dataframe\">\n",
       "  <thead>\n",
       "    <tr style=\"text-align: right;\">\n",
       "      <th></th>\n",
       "      <th>Basin</th>\n",
       "      <th>CycloneNumber</th>\n",
       "      <th>DateTime</th>\n",
       "      <th>ModelNumber</th>\n",
       "      <th>ModelName</th>\n",
       "      <th>ForecastHour</th>\n",
       "      <th>Latitude</th>\n",
       "      <th>Longitude</th>\n",
       "      <th>MaxWindSpeed</th>\n",
       "      <th>MinPressure</th>\n",
       "      <th>...</th>\n",
       "      <th>ExtraField20</th>\n",
       "      <th>MaxWindSpeed_mph</th>\n",
       "      <th>ValidTime</th>\n",
       "      <th>Category_based_on_pressure</th>\n",
       "      <th>Category_number_pressure_based</th>\n",
       "      <th>Category_based_on_windspeed</th>\n",
       "      <th>Category_number_windspeed_based</th>\n",
       "      <th>maximum_category</th>\n",
       "      <th>geometry</th>\n",
       "      <th>Category</th>\n",
       "    </tr>\n",
       "  </thead>\n",
       "  <tbody>\n",
       "    <tr>\n",
       "      <th>0</th>\n",
       "      <td>AL</td>\n",
       "      <td>2</td>\n",
       "      <td>2024-06-26 18:00:00+00:00</td>\n",
       "      <td>1</td>\n",
       "      <td>CARQ</td>\n",
       "      <td>-24</td>\n",
       "      <td>None</td>\n",
       "      <td>None</td>\n",
       "      <td>15</td>\n",
       "      <td>0</td>\n",
       "      <td>...</td>\n",
       "      <td>NaN</td>\n",
       "      <td>17.26170</td>\n",
       "      <td>2024-06-25 18:00:00+00:00</td>\n",
       "      <td>Category 5</td>\n",
       "      <td>5</td>\n",
       "      <td>Tropical Depression</td>\n",
       "      <td>-1</td>\n",
       "      <td>5</td>\n",
       "      <td>POINT (-22.00000 9.00000)</td>\n",
       "      <td>-1</td>\n",
       "    </tr>\n",
       "    <tr>\n",
       "      <th>1</th>\n",
       "      <td>AL</td>\n",
       "      <td>2</td>\n",
       "      <td>2024-06-26 18:00:00+00:00</td>\n",
       "      <td>1</td>\n",
       "      <td>CARQ</td>\n",
       "      <td>-18</td>\n",
       "      <td>None</td>\n",
       "      <td>None</td>\n",
       "      <td>15</td>\n",
       "      <td>0</td>\n",
       "      <td>...</td>\n",
       "      <td>NaN</td>\n",
       "      <td>17.26170</td>\n",
       "      <td>2024-06-26 00:00:00+00:00</td>\n",
       "      <td>Category 5</td>\n",
       "      <td>5</td>\n",
       "      <td>Tropical Depression</td>\n",
       "      <td>-1</td>\n",
       "      <td>5</td>\n",
       "      <td>POINT (-25.50000 9.40000)</td>\n",
       "      <td>-1</td>\n",
       "    </tr>\n",
       "    <tr>\n",
       "      <th>2</th>\n",
       "      <td>AL</td>\n",
       "      <td>2</td>\n",
       "      <td>2024-06-26 18:00:00+00:00</td>\n",
       "      <td>1</td>\n",
       "      <td>CARQ</td>\n",
       "      <td>-12</td>\n",
       "      <td>None</td>\n",
       "      <td>None</td>\n",
       "      <td>15</td>\n",
       "      <td>0</td>\n",
       "      <td>...</td>\n",
       "      <td>NaN</td>\n",
       "      <td>17.26170</td>\n",
       "      <td>2024-06-26 06:00:00+00:00</td>\n",
       "      <td>Category 5</td>\n",
       "      <td>5</td>\n",
       "      <td>Tropical Depression</td>\n",
       "      <td>-1</td>\n",
       "      <td>5</td>\n",
       "      <td>POINT (-27.00000 9.60000)</td>\n",
       "      <td>-1</td>\n",
       "    </tr>\n",
       "    <tr>\n",
       "      <th>3</th>\n",
       "      <td>AL</td>\n",
       "      <td>2</td>\n",
       "      <td>2024-06-26 18:00:00+00:00</td>\n",
       "      <td>1</td>\n",
       "      <td>CARQ</td>\n",
       "      <td>-6</td>\n",
       "      <td>None</td>\n",
       "      <td>None</td>\n",
       "      <td>20</td>\n",
       "      <td>0</td>\n",
       "      <td>...</td>\n",
       "      <td>NaN</td>\n",
       "      <td>23.01560</td>\n",
       "      <td>2024-06-26 12:00:00+00:00</td>\n",
       "      <td>Category 5</td>\n",
       "      <td>5</td>\n",
       "      <td>Tropical Depression</td>\n",
       "      <td>-1</td>\n",
       "      <td>5</td>\n",
       "      <td>POINT (-28.80000 9.80000)</td>\n",
       "      <td>-1</td>\n",
       "    </tr>\n",
       "    <tr>\n",
       "      <th>4</th>\n",
       "      <td>AL</td>\n",
       "      <td>2</td>\n",
       "      <td>2024-06-26 18:00:00+00:00</td>\n",
       "      <td>1</td>\n",
       "      <td>CARQ</td>\n",
       "      <td>0</td>\n",
       "      <td>None</td>\n",
       "      <td>None</td>\n",
       "      <td>20</td>\n",
       "      <td>1012</td>\n",
       "      <td>...</td>\n",
       "      <td>NaN</td>\n",
       "      <td>23.01560</td>\n",
       "      <td>2024-06-26 18:00:00+00:00</td>\n",
       "      <td>Tropical Storm</td>\n",
       "      <td>0</td>\n",
       "      <td>Tropical Depression</td>\n",
       "      <td>-1</td>\n",
       "      <td>0</td>\n",
       "      <td>POINT (-30.50000 10.00000)</td>\n",
       "      <td>-1</td>\n",
       "    </tr>\n",
       "    <tr>\n",
       "      <th>...</th>\n",
       "      <td>...</td>\n",
       "      <td>...</td>\n",
       "      <td>...</td>\n",
       "      <td>...</td>\n",
       "      <td>...</td>\n",
       "      <td>...</td>\n",
       "      <td>...</td>\n",
       "      <td>...</td>\n",
       "      <td>...</td>\n",
       "      <td>...</td>\n",
       "      <td>...</td>\n",
       "      <td>...</td>\n",
       "      <td>...</td>\n",
       "      <td>...</td>\n",
       "      <td>...</td>\n",
       "      <td>...</td>\n",
       "      <td>...</td>\n",
       "      <td>...</td>\n",
       "      <td>...</td>\n",
       "      <td>...</td>\n",
       "      <td>...</td>\n",
       "    </tr>\n",
       "    <tr>\n",
       "      <th>205306</th>\n",
       "      <td>AL</td>\n",
       "      <td>2</td>\n",
       "      <td>2024-07-11 06:00:00+00:00</td>\n",
       "      <td>3</td>\n",
       "      <td>AVNX</td>\n",
       "      <td>6</td>\n",
       "      <td>None</td>\n",
       "      <td>None</td>\n",
       "      <td>21</td>\n",
       "      <td>1008</td>\n",
       "      <td>...</td>\n",
       "      <td>NaN</td>\n",
       "      <td>24.16638</td>\n",
       "      <td>2024-07-11 12:00:00+00:00</td>\n",
       "      <td>Tropical Storm</td>\n",
       "      <td>0</td>\n",
       "      <td>Tropical Depression</td>\n",
       "      <td>-1</td>\n",
       "      <td>0</td>\n",
       "      <td>POINT (-77.30000 44.50000)</td>\n",
       "      <td>-1</td>\n",
       "    </tr>\n",
       "    <tr>\n",
       "      <th>205307</th>\n",
       "      <td>AL</td>\n",
       "      <td>2</td>\n",
       "      <td>2024-07-11 06:00:00+00:00</td>\n",
       "      <td>3</td>\n",
       "      <td>AVNX</td>\n",
       "      <td>12</td>\n",
       "      <td>None</td>\n",
       "      <td>None</td>\n",
       "      <td>14</td>\n",
       "      <td>1012</td>\n",
       "      <td>...</td>\n",
       "      <td>NaN</td>\n",
       "      <td>16.11092</td>\n",
       "      <td>2024-07-11 18:00:00+00:00</td>\n",
       "      <td>Tropical Storm</td>\n",
       "      <td>0</td>\n",
       "      <td>Tropical Depression</td>\n",
       "      <td>-1</td>\n",
       "      <td>0</td>\n",
       "      <td>POINT (-75.00000 45.90000)</td>\n",
       "      <td>-1</td>\n",
       "    </tr>\n",
       "    <tr>\n",
       "      <th>205308</th>\n",
       "      <td>AL</td>\n",
       "      <td>2</td>\n",
       "      <td>2024-07-11 06:00:00+00:00</td>\n",
       "      <td>3</td>\n",
       "      <td>AVNX</td>\n",
       "      <td>18</td>\n",
       "      <td>None</td>\n",
       "      <td>None</td>\n",
       "      <td>17</td>\n",
       "      <td>1013</td>\n",
       "      <td>...</td>\n",
       "      <td>NaN</td>\n",
       "      <td>19.56326</td>\n",
       "      <td>2024-07-12 00:00:00+00:00</td>\n",
       "      <td>Tropical Storm</td>\n",
       "      <td>0</td>\n",
       "      <td>Tropical Depression</td>\n",
       "      <td>-1</td>\n",
       "      <td>0</td>\n",
       "      <td>POINT (-72.50000 46.50000)</td>\n",
       "      <td>-1</td>\n",
       "    </tr>\n",
       "    <tr>\n",
       "      <th>205309</th>\n",
       "      <td>AL</td>\n",
       "      <td>2</td>\n",
       "      <td>2024-07-11 06:00:00+00:00</td>\n",
       "      <td>3</td>\n",
       "      <td>AVNX</td>\n",
       "      <td>24</td>\n",
       "      <td>None</td>\n",
       "      <td>None</td>\n",
       "      <td>14</td>\n",
       "      <td>1016</td>\n",
       "      <td>...</td>\n",
       "      <td>NaN</td>\n",
       "      <td>16.11092</td>\n",
       "      <td>2024-07-12 06:00:00+00:00</td>\n",
       "      <td>Tropical Storm</td>\n",
       "      <td>0</td>\n",
       "      <td>Tropical Depression</td>\n",
       "      <td>-1</td>\n",
       "      <td>0</td>\n",
       "      <td>POINT (-71.60000 46.10000)</td>\n",
       "      <td>-1</td>\n",
       "    </tr>\n",
       "    <tr>\n",
       "      <th>205310</th>\n",
       "      <td>AL</td>\n",
       "      <td>2</td>\n",
       "      <td>2024-07-11 06:00:00+00:00</td>\n",
       "      <td>3</td>\n",
       "      <td>AVNX</td>\n",
       "      <td>30</td>\n",
       "      <td>None</td>\n",
       "      <td>None</td>\n",
       "      <td>8</td>\n",
       "      <td>1019</td>\n",
       "      <td>...</td>\n",
       "      <td>NaN</td>\n",
       "      <td>9.20624</td>\n",
       "      <td>2024-07-12 12:00:00+00:00</td>\n",
       "      <td>Tropical Storm</td>\n",
       "      <td>0</td>\n",
       "      <td>Tropical Depression</td>\n",
       "      <td>-1</td>\n",
       "      <td>0</td>\n",
       "      <td>POINT (-71.80000 46.80000)</td>\n",
       "      <td>-1</td>\n",
       "    </tr>\n",
       "  </tbody>\n",
       "</table>\n",
       "<p>202992 rows × 55 columns</p>\n",
       "</div>"
      ],
      "text/plain": [
       "       Basin  CycloneNumber                  DateTime  ModelNumber ModelName  \\\n",
       "0         AL              2 2024-06-26 18:00:00+00:00            1      CARQ   \n",
       "1         AL              2 2024-06-26 18:00:00+00:00            1      CARQ   \n",
       "2         AL              2 2024-06-26 18:00:00+00:00            1      CARQ   \n",
       "3         AL              2 2024-06-26 18:00:00+00:00            1      CARQ   \n",
       "4         AL              2 2024-06-26 18:00:00+00:00            1      CARQ   \n",
       "...      ...            ...                       ...          ...       ...   \n",
       "205306    AL              2 2024-07-11 06:00:00+00:00            3      AVNX   \n",
       "205307    AL              2 2024-07-11 06:00:00+00:00            3      AVNX   \n",
       "205308    AL              2 2024-07-11 06:00:00+00:00            3      AVNX   \n",
       "205309    AL              2 2024-07-11 06:00:00+00:00            3      AVNX   \n",
       "205310    AL              2 2024-07-11 06:00:00+00:00            3      AVNX   \n",
       "\n",
       "        ForecastHour Latitude Longitude  MaxWindSpeed  MinPressure  ...  \\\n",
       "0                -24     None      None            15            0  ...   \n",
       "1                -18     None      None            15            0  ...   \n",
       "2                -12     None      None            15            0  ...   \n",
       "3                 -6     None      None            20            0  ...   \n",
       "4                  0     None      None            20         1012  ...   \n",
       "...              ...      ...       ...           ...          ...  ...   \n",
       "205306             6     None      None            21         1008  ...   \n",
       "205307            12     None      None            14         1012  ...   \n",
       "205308            18     None      None            17         1013  ...   \n",
       "205309            24     None      None            14         1016  ...   \n",
       "205310            30     None      None             8         1019  ...   \n",
       "\n",
       "       ExtraField20  MaxWindSpeed_mph                 ValidTime  \\\n",
       "0               NaN          17.26170 2024-06-25 18:00:00+00:00   \n",
       "1               NaN          17.26170 2024-06-26 00:00:00+00:00   \n",
       "2               NaN          17.26170 2024-06-26 06:00:00+00:00   \n",
       "3               NaN          23.01560 2024-06-26 12:00:00+00:00   \n",
       "4               NaN          23.01560 2024-06-26 18:00:00+00:00   \n",
       "...             ...               ...                       ...   \n",
       "205306          NaN          24.16638 2024-07-11 12:00:00+00:00   \n",
       "205307          NaN          16.11092 2024-07-11 18:00:00+00:00   \n",
       "205308          NaN          19.56326 2024-07-12 00:00:00+00:00   \n",
       "205309          NaN          16.11092 2024-07-12 06:00:00+00:00   \n",
       "205310          NaN           9.20624 2024-07-12 12:00:00+00:00   \n",
       "\n",
       "        Category_based_on_pressure  Category_number_pressure_based  \\\n",
       "0                       Category 5                               5   \n",
       "1                       Category 5                               5   \n",
       "2                       Category 5                               5   \n",
       "3                       Category 5                               5   \n",
       "4                   Tropical Storm                               0   \n",
       "...                            ...                             ...   \n",
       "205306              Tropical Storm                               0   \n",
       "205307              Tropical Storm                               0   \n",
       "205308              Tropical Storm                               0   \n",
       "205309              Tropical Storm                               0   \n",
       "205310              Tropical Storm                               0   \n",
       "\n",
       "        Category_based_on_windspeed  Category_number_windspeed_based  \\\n",
       "0               Tropical Depression                               -1   \n",
       "1               Tropical Depression                               -1   \n",
       "2               Tropical Depression                               -1   \n",
       "3               Tropical Depression                               -1   \n",
       "4               Tropical Depression                               -1   \n",
       "...                             ...                              ...   \n",
       "205306          Tropical Depression                               -1   \n",
       "205307          Tropical Depression                               -1   \n",
       "205308          Tropical Depression                               -1   \n",
       "205309          Tropical Depression                               -1   \n",
       "205310          Tropical Depression                               -1   \n",
       "\n",
       "        maximum_category                    geometry Category  \n",
       "0                      5   POINT (-22.00000 9.00000)       -1  \n",
       "1                      5   POINT (-25.50000 9.40000)       -1  \n",
       "2                      5   POINT (-27.00000 9.60000)       -1  \n",
       "3                      5   POINT (-28.80000 9.80000)       -1  \n",
       "4                      0  POINT (-30.50000 10.00000)       -1  \n",
       "...                  ...                         ...      ...  \n",
       "205306                 0  POINT (-77.30000 44.50000)       -1  \n",
       "205307                 0  POINT (-75.00000 45.90000)       -1  \n",
       "205308                 0  POINT (-72.50000 46.50000)       -1  \n",
       "205309                 0  POINT (-71.60000 46.10000)       -1  \n",
       "205310                 0  POINT (-71.80000 46.80000)       -1  \n",
       "\n",
       "[202992 rows x 55 columns]"
      ]
     },
     "execution_count": 8,
     "metadata": {},
     "output_type": "execute_result"
    }
   ],
   "source": [
    "dat"
   ]
  }
 ],
 "metadata": {
  "kernelspec": {
   "display_name": "EventMonitor",
   "language": "python",
   "name": "python3"
  },
  "language_info": {
   "codemirror_mode": {
    "name": "ipython",
    "version": 3
   },
   "file_extension": ".py",
   "mimetype": "text/x-python",
   "name": "python",
   "nbconvert_exporter": "python",
   "pygments_lexer": "ipython3",
   "version": "3.12.5"
  }
 },
 "nbformat": 4,
 "nbformat_minor": 2
}
