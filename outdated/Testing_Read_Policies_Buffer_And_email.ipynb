{
 "cells": [
  {
   "cell_type": "code",
   "execution_count": 1,
   "metadata": {},
   "outputs": [
    {
     "name": "stderr",
     "output_type": "stream",
     "text": [
      "C:\\Users\\alvaro.farias\\AppData\\Local\\Temp\\3\\ipykernel_14784\\3762280661.py:13: UserWarning: Geometry is in a geographic CRS. Results from 'buffer' are likely incorrect. Use 'GeoSeries.to_crs()' to re-project geometries to a projected CRS before this operation.\n",
      "\n",
      "  AOIs_buff=gpd.GeoDataFrame(data=AOIs,geometry=AOIs.buffer(0.7),crs=AOIs.crs)\n"
     ]
    }
   ],
   "source": [
    "import geopandas as gpd\n",
    "import pandas as pd\n",
    "import app_functions as f\n",
    "from shapely.geometry import Point\n",
    "from shapely.ops import unary_union\n",
    "from datetime import datetime, timedelta, timezone\n",
    "import os\n",
    "\n",
    "\n",
    "root_dir=os.getcwd()\n",
    "\n",
    "AOIs=gpd.read_file('./Areas_Of_Interest_For_ALERT/2024_Policies.geojson')\n",
    "AOIs_buff=gpd.GeoDataFrame(data=AOIs,geometry=AOIs.buffer(0.7),crs=AOIs.crs)\n"
   ]
  },
  {
   "cell_type": "code",
   "execution_count": 11,
   "metadata": {},
   "outputs": [],
   "source": [
    "def parse_datetime(value):\n",
    "    \"\"\"\n",
    "    Attempt to parse a datetime value with multiple formats.\n",
    "    \"\"\"\n",
    "    # Ensure value is a string; if it's NaN or float, return NaT\n",
    "    if not isinstance(value, str):\n",
    "        return pd.NaT\n",
    "    \n",
    "    datetime_formats = [\n",
    "        \"%Y-%m-%d %H:%M:%S\",  # 2024-10-08 18:00:00\n",
    "        \"%d/%m/%Y %H:%M\",      # 08/10/2024 18:00\n",
    "        \"%Y/%m/%d %H:%M:%S\",   # 2024/10/08 18:00:00 (additional possible format)\n",
    "    ]\n",
    "\n",
    "    for fmt in datetime_formats:\n",
    "        try:\n",
    "            return datetime.strptime(value, fmt)\n",
    "        except ValueError:\n",
    "            continue\n",
    "    \n",
    "    # If none of the formats work, return None (or NaT)\n",
    "    return pd.NaT\n",
    "\n",
    "def get_recent_adeck_paths(file_path,timestamp_utc):\n",
    "    \"\"\"\n",
    "    Get the adeck_path of storms whose end date is within the last 24 hours (UTC time).\n",
    "\n",
    "    Parameters:\n",
    "    - file_path: str, path to the storm_adeck_directory CSV file.\n",
    "    - timestamp_utc: timestamp object, the time from which a storm is condered active (updated 24hrs prior to this time and date)\n",
    "\n",
    "    Returns:\n",
    "    - recent_adeck_paths: list of str, paths of adeck files updated in the last 24 hours.\n",
    "    \"\"\"\n",
    "    try:\n",
    "        # Read the CSV file into a DataFrame\n",
    "        df = pd.read_csv(file_path)\n",
    "\n",
    "        # Parse 'Storm_End_Date' using the custom function\n",
    "        df['Storm_End_Date'] = df['Storm_End_Date'].apply(parse_datetime)\n",
    "\n",
    "        # Localize to UTC only if 'Storm_End_Date' is valid\n",
    "        df['Storm_End_Date'] = df['Storm_End_Date'].apply(lambda x: x.tz_localize('UTC') if pd.notna(x) else x)\n",
    "\n",
    "        # Time 24 hours ago in UTC\n",
    "        time_threshold = timestamp_utc - timedelta(hours=24)\n",
    "\n",
    "        # Filter rows whose 'Storm_End_Date' is within the last 24 hours\n",
    "        recent_storms = df[df['Storm_End_Date'] > time_threshold]\n",
    "\n",
    "        return recent_storms\n",
    "\n",
    "    except Exception as e:\n",
    "        print(f\"Error occurred: {e}\")\n",
    "        return []\n",
    "    \n",
    "def clean_strings(gdf, column_name, new_column_name):\n",
    "    \"\"\"\n",
    "    Removes any words containing numbers and all following words from the specified column \n",
    "    of the GeoDataFrame unless the word is the first word in the string.\n",
    "    \n",
    "    Parameters:\n",
    "    gdf (GeoDataFrame): The input GeoDataFrame.\n",
    "    column_name (str): The name of the column to be processed.\n",
    "    new_column_name (str): The name of the new column where the cleaned strings will be stored.\n",
    "    \n",
    "    Returns:\n",
    "    GeoDataFrame: The input GeoDataFrame with an additional column containing the cleaned strings.\n",
    "    \"\"\"\n",
    "    \n",
    "    def process_string(s):\n",
    "        words = s.split()\n",
    "        cleaned_words = []\n",
    "        for i, word in enumerate(words):\n",
    "            if i == 0:\n",
    "                # Always keep the first word\n",
    "                cleaned_words.append(word)\n",
    "            else:\n",
    "                if any(char.isdigit() for char in word):\n",
    "                    # Remove this word and stop processing further words\n",
    "                    break\n",
    "                else:\n",
    "                    cleaned_words.append(word)\n",
    "        return ' '.join(cleaned_words).strip()\n",
    "    \n",
    "    # Apply the process_string function to the specified column\n",
    "    gdf[new_column_name] = gdf[column_name].apply(process_string)\n",
    "    \n",
    "    return gdf\n",
    "\n",
    "import plotly.graph_objects as go\n",
    "import geopandas as gpd\n",
    "import plotly.io as pio\n",
    "\n",
    "def create_forecast_map_with_cone_for_AOIs(adeck_gdf, cone_polygon, aoi_gdf, selected_forecast_datetime=None, AOI_Name=None, logo_url=None,title=None):\n",
    "    \"\"\"\n",
    "    Creates a Plotly map of the forecast tracks, including the uncertainty cone and areas of interest.\n",
    "\n",
    "    Parameters:\n",
    "    - adeck_gdf: GeoDataFrame with point geometries of the hurricane tracks.\n",
    "    - cone_polygon: Polygon or MultiPolygon geometry representing the uncertainty cone.\n",
    "    - aoi_gdf: GeoDataFrame with polygon geometries representing areas of interest.\n",
    "    - selected_forecast_datetime: str, the forecast date and time in 'YYYYMMDDHH' format (optional).\n",
    "    - AOI_Name: str, name of the column in aoi_gdf containing labels for AOIs, or a single label (str).\n",
    "\n",
    "    Returns:\n",
    "    - fig: Plotly figure object.\n",
    "    \"\"\"\n",
    "    mapbox_access_token = 'pk.eyJ1IjoiYWx2YXJvZmFyaWFzIiwiYSI6ImNtMXptbm9iaDA4OHMybG9vc3VqdW1vZ3oifQ.ZJ8d6gNAiR1htIYxESOYuQ'\n",
    "    pio.templates.default = 'plotly_dark'  # Optional to use dark theme\n",
    "\n",
    "    # Filter by forecast datetime if provided\n",
    "    if selected_forecast_datetime:\n",
    "        adeck_gdf = adeck_gdf[adeck_gdf['DateTime'] == selected_forecast_datetime]\n",
    "\n",
    "    # Determine AOI labels\n",
    "    if AOI_Name and AOI_Name in aoi_gdf.columns:\n",
    "        # Use the specified column for labels\n",
    "        AOI_labels = aoi_gdf[AOI_Name].astype(str).tolist()\n",
    "    else:\n",
    "        # Use the provided AOI_Name as a single label, or default label\n",
    "        AOI_label = AOI_Name if AOI_Name else 'Area(s) of Interest'\n",
    "        AOI_labels = [AOI_label] * len(aoi_gdf)\n",
    "\n",
    "    # Define category colors in the desired order\n",
    "    category_colors = {\n",
    "        'Tropical Depression': 'green',\n",
    "        'Tropical Storm': 'blue',\n",
    "        'Category 1': 'yellow',\n",
    "        'Category 2': 'orange',\n",
    "        'Category 3': 'red',\n",
    "        'Category 4': 'purple',\n",
    "        'Category 5': 'magenta',\n",
    "        'Unknown': 'gray'\n",
    "    }\n",
    "\n",
    "    # Define the desired order for the legend\n",
    "    category_order = [\n",
    "        'Tropical Depression',\n",
    "        'Tropical Storm',\n",
    "        'Category 1',\n",
    "        'Category 2',\n",
    "        'Category 3',\n",
    "        'Category 4',\n",
    "        'Category 5',\n",
    "        'Unknown'\n",
    "    ]\n",
    "\n",
    "    # Map category to colors\n",
    "    adeck_gdf['Color'] = adeck_gdf['Category'].apply(lambda x: category_colors.get(x, 'gray'))\n",
    "\n",
    "    # Sort the DataFrame by ModelName and ValidTime to ensure lines connect correctly per model\n",
    "    adeck_gdf = adeck_gdf.sort_values(['ModelName', 'ValidTime'])\n",
    "\n",
    "    # Initialize the Plotly figure\n",
    "    fig = go.Figure()\n",
    "\n",
    "    # Add a line trace for each model (white lines connecting points of the same model)\n",
    "    models = adeck_gdf['ModelName'].unique()\n",
    "    for model in models:\n",
    "        model_gdf = adeck_gdf[adeck_gdf['ModelName'] == model].sort_values('ValidTime')\n",
    "        if model_gdf.empty:\n",
    "            continue\n",
    "        fig.add_trace(go.Scattermapbox(\n",
    "            lat=model_gdf.geometry.y,\n",
    "            lon=model_gdf.geometry.x,\n",
    "            mode='lines',\n",
    "            line=dict(color='white', width=2),\n",
    "            hoverinfo='none',  # No hover info for the lines\n",
    "            showlegend=False    # Do not show lines in the legend\n",
    "        ))\n",
    "\n",
    "    # Group data by Category in the specified order and plot the markers\n",
    "    for category in category_order:\n",
    "        category_gdf = adeck_gdf[adeck_gdf['Category'] == category]\n",
    "        if not category_gdf.empty:\n",
    "            fig.add_trace(go.Scattermapbox(\n",
    "                lat=category_gdf.geometry.y,\n",
    "                lon=category_gdf.geometry.x,\n",
    "                mode='markers',\n",
    "                name=category,\n",
    "                marker=dict(\n",
    "                    size=8,\n",
    "                    color=category_colors[category],  # Single color per category\n",
    "                ),\n",
    "                text=category_gdf.apply(\n",
    "                    lambda row: (\n",
    "                        f\"Time: {row['ValidTime']:%Y-%m-%d %H:%M UTC}<br>\"\n",
    "                        f\"Wind Speed (mph): {row['MaxWindSpeed_mph']:.1f}<br>\"\n",
    "                        f\"Central Pressure (mb): {row['MinPressure']}<br>\"\n",
    "                        f\"Category: {row['Category']}<br>\"\n",
    "                        f\"Model: {row['ModelName']}\"\n",
    "                    ), axis=1),\n",
    "                hoverinfo='text'\n",
    "            ))\n",
    "\n",
    "    # Add uncertainty cone polygon to the map\n",
    "    if cone_polygon is not None and not cone_polygon.empty:\n",
    "        # Ensure the cone_polygon is in WGS84 coordinate system\n",
    "        if cone_polygon.crs != 'EPSG:4326':\n",
    "            cone_polygon = cone_polygon.to_crs('EPSG:4326')\n",
    "        \n",
    "        for geom in cone_polygon.geometry:\n",
    "            if geom.geom_type == 'Polygon':\n",
    "                cone_coords = geom.exterior.coords.xy\n",
    "                cone_lats, cone_lons = list(cone_coords[1]), list(cone_coords[0])  # Convert to lists\n",
    "                fig.add_trace(go.Scattermapbox(\n",
    "                    lat=cone_lats,\n",
    "                    lon=cone_lons,\n",
    "                    mode='lines',\n",
    "                    fill='toself',\n",
    "                    fillcolor='rgba(128, 128, 128, 0.5)',  # Grey with transparency\n",
    "                    line=dict(color='lightgrey', width=2),  # Light grey outline\n",
    "                    name='Uncertainty Cone',\n",
    "                    hoverinfo='skip',  # No hover info for the cone\n",
    "                    # Un-comment the next line if you want the cone to be off by default\n",
    "                    # visible='legendonly'  \n",
    "                ))\n",
    "            elif geom.geom_type == 'MultiPolygon':\n",
    "                for poly in geom.geoms:\n",
    "                    cone_coords = poly.exterior.coords.xy\n",
    "                    cone_lats, cone_lons = list(cone_coords[1]), list(cone_coords[0])  # Convert to lists\n",
    "                    fig.add_trace(go.Scattermapbox(\n",
    "                        lat=cone_lats,\n",
    "                        lon=cone_lons,\n",
    "                        mode='lines',\n",
    "                        fill='toself',\n",
    "                        fillcolor='rgba(128, 128, 128, 0.5)',  # Grey with transparency\n",
    "                        line=dict(color='lightgrey', width=2),  # Light grey outline\n",
    "                        name='Uncertainty Cone',\n",
    "                        hoverinfo='skip',\n",
    "                    ))\n",
    "\n",
    "    # Add Areas of Interest polygons to the map\n",
    "    if aoi_gdf is not None and not aoi_gdf.empty:\n",
    "        # Ensure the aoi_gdf is in WGS84 coordinate system\n",
    "        if aoi_gdf.crs != 'EPSG:4326':\n",
    "            aoi_gdf = aoi_gdf.to_crs('EPSG:4326')\n",
    "\n",
    "        # Iterate over each AOI polygon and their labels\n",
    "        for idx, (aoi, label) in enumerate(zip(aoi_gdf.itertuples(), AOI_labels)):\n",
    "            geometry = aoi.geometry\n",
    "            if geometry.geom_type == 'Polygon':\n",
    "                aoi_coords = geometry.exterior.coords.xy\n",
    "                aoi_lats, aoi_lons = list(aoi_coords[1]), list(aoi_coords[0])  # Convert to lists\n",
    "                fig.add_trace(go.Scattermapbox(\n",
    "                    lat=aoi_lats,\n",
    "                    lon=aoi_lons,\n",
    "                    mode='lines',\n",
    "                    fill='toself',\n",
    "                    fillcolor='rgba(0, 255, 0, 0.2)',  # Green with transparency\n",
    "                    line=dict(color='green', width=2),\n",
    "                    name=label,\n",
    "                    hoverinfo='skip'\n",
    "                ))\n",
    "            elif geometry.geom_type == 'MultiPolygon':\n",
    "                for poly in geometry.geoms:\n",
    "                    aoi_coords = poly.exterior.coords.xy\n",
    "                    aoi_lats, aoi_lons = list(aoi_coords[1]), list(aoi_coords[0])  # Convert to lists\n",
    "                    fig.add_trace(go.Scattermapbox(\n",
    "                        lat=aoi_lats,\n",
    "                        lon=aoi_lons,\n",
    "                        mode='lines',\n",
    "                        fill='toself',\n",
    "                        fillcolor='rgba(0, 255, 0, 0.2)',  # Green with transparency\n",
    "                        line=dict(color='green', width=2),\n",
    "                        name=label,\n",
    "                        hoverinfo='skip'\n",
    "                    ))\n",
    "\n",
    "    # Calculate the centroid of the AOIs and extract lat/lon for centering the map\n",
    "    if not aoi_gdf.empty:\n",
    "        aoi_centroid = aoi_gdf.centroid  # This gives a GeoSeries of centroids\n",
    "        center_lat = aoi_centroid.y.mean()  # Calculate the mean latitude of the centroids\n",
    "        center_lon = aoi_centroid.x.mean()  # Calculate the mean longitude of the centroids\n",
    "    else:\n",
    "        # If no AOIs, fallback to the adeck_gdf centroid\n",
    "        center_lat = adeck_gdf.geometry.y.mean()\n",
    "        center_lon = adeck_gdf.geometry.x.mean()\n",
    "\n",
    "    # Set up the map layout with Mapbox token and style, centering on the AOI centroid\n",
    "    fig.update_layout(\n",
    "        mapbox_style='carto-darkmatter',\n",
    "        mapbox_accesstoken=mapbox_access_token,  # Use Mapbox token\n",
    "        mapbox_zoom=5,\n",
    "        mapbox_center={\"lat\": center_lat, \"lon\": center_lon},  # Center the map on AOI centroid\n",
    "        title=dict(text=title, font=dict(size=20, color='white'), x=0.5), \n",
    "        margin={\"r\": 0, \"t\": 50, \"l\": 0, \"b\": 0}\n",
    "    )\n",
    "    print(title)\n",
    "    # Add a logo image if provided\n",
    "    if logo_url:\n",
    "        fig.add_layout_image(\n",
    "            dict(\n",
    "                source=logo_url,\n",
    "                xref=\"paper\", yref=\"paper\",  # Position relative to the entire figure\n",
    "                x=0.5, y=0.5,  # Position the logo at the top left corner\n",
    "                sizex=5, sizey=10,  # Adjust size as necessary\n",
    "                xanchor=\"left\", yanchor=\"top\",\n",
    "                layer=\"above\"\n",
    "            )\n",
    "        )\n",
    "\n",
    "    return fig\n",
    "\n",
    "import tempfile\n",
    "import re\n",
    "import win32com.client as win32\n",
    "import plotly.graph_objects as go\n",
    "\n",
    "def send_map_via_email(fig, recipients, subject, body, cc=None, bcc=None, sender=None, send_as=False):\n",
    "    \"\"\"\n",
    "    Sends a Plotly map as an HTML attachment via Outlook email.\n",
    "\n",
    "    Parameters:\n",
    "    - fig (plotly.graph_objects.Figure): The Plotly figure to send.\n",
    "    - recipients (list or str): List of recipient email addresses or a single email address.\n",
    "    - subject (str): Subject of the email.\n",
    "    - body (str): Body content of the email. Supports HTML.\n",
    "    - cc (list or str, optional): List of CC email addresses or a single email address.\n",
    "    - bcc (list or str, optional): List of BCC email addresses or a single email address.\n",
    "    - sender (str, optional): Email address to send on behalf of. Must have permissions.\n",
    "    - send_as (bool, optional): If True, attempts to set the 'From' property instead of 'SentOnBehalfOfName'.\n",
    "\n",
    "    Returns:\n",
    "    - None\n",
    "\n",
    "    Raises:\n",
    "    - ValueError: If no valid recipients are provided.\n",
    "    - Exception: If Outlook is not installed or an error occurs during email sending.\n",
    "    \"\"\"\n",
    "    try:\n",
    "        # Function to validate email addresses using a simple regex\n",
    "        def is_valid_email(email):\n",
    "            regex = r'^[\\w\\.-]+@[\\w\\.-]+\\.\\w+$'\n",
    "            return re.match(regex, email) is not None\n",
    "\n",
    "        # Helper function to ensure input is a list\n",
    "        def ensure_list(input_field):\n",
    "            if input_field is None:\n",
    "                return []\n",
    "            if isinstance(input_field, str):\n",
    "                input_field = input_field.strip()\n",
    "                return [input_field] if input_field else []\n",
    "            if isinstance(input_field, list):\n",
    "                # Remove any empty strings and strip whitespace\n",
    "                return [email.strip() for email in input_field if email.strip()]\n",
    "            raise ValueError(\"Email fields must be either a string or a list of strings.\")\n",
    "\n",
    "        # Convert recipients, cc, bcc to lists\n",
    "        recipients = ensure_list(recipients)\n",
    "        cc = ensure_list(cc)\n",
    "        bcc = ensure_list(bcc)\n",
    "\n",
    "        # Combine all recipients to ensure at least one is present\n",
    "        all_recipients = recipients + cc + bcc\n",
    "\n",
    "        if not all_recipients:\n",
    "            raise ValueError(\"At least one recipient must be provided in To, Cc, or Bcc.\")\n",
    "\n",
    "        # Validate all email addresses\n",
    "        invalid_emails = [email for email in all_recipients if not is_valid_email(email)]\n",
    "        if invalid_emails:\n",
    "            raise ValueError(f\"The following email addresses are invalid: {invalid_emails}\")\n",
    "\n",
    "        # Create a temporary directory to store the HTML file\n",
    "        with tempfile.TemporaryDirectory() as tmpdirname:\n",
    "            # Define the HTML file path\n",
    "            html_file_path = os.path.join(tmpdirname, 'forecast_map.html')\n",
    "            \n",
    "            # Save the Plotly figure as an HTML file\n",
    "            fig.write_html(html_file_path, full_html=True)\n",
    "            \n",
    "            # Initialize Outlook application\n",
    "            outlook = win32.Dispatch('outlook.application')\n",
    "            mail = outlook.CreateItem(0)  # 0: olMailItem\n",
    "            \n",
    "            # Set email parameters\n",
    "            mail.Subject = subject\n",
    "            mail.Body = body  # Plain text body\n",
    "            mail.HTMLBody = body  # HTML body\n",
    "            \n",
    "            # Set sender if specified\n",
    "            if sender:\n",
    "                try:\n",
    "                    if send_as:\n",
    "                        mail.From = sender  # Requires 'Send As' permissions\n",
    "                    else:\n",
    "                        mail.SentOnBehalfOfName = sender  # Requires 'Send on Behalf Of' permissions\n",
    "                except Exception as e:\n",
    "                    print(f\"Error setting sender to '{sender}': {e}\")\n",
    "                    raise\n",
    "\n",
    "            # Add recipients to To\n",
    "            for recipient in recipients:\n",
    "                mail.Recipients.Add(recipient)\n",
    "            \n",
    "            # Add CC recipients\n",
    "            for c in cc:\n",
    "                mail.Recipients.Add(c)\n",
    "            \n",
    "            # Add BCC recipients\n",
    "            for b in bcc:\n",
    "                mail.Recipients.Add(b)\n",
    "            \n",
    "            # Resolve all recipients\n",
    "            if not mail.Recipients.ResolveAll():\n",
    "                unresolved = [rec.Name for rec in mail.Recipients if not rec.Resolved]\n",
    "                raise ValueError(f\"Some recipients could not be resolved: {unresolved}\")\n",
    "            \n",
    "            # Attach the HTML file\n",
    "            mail.Attachments.Add(Source=html_file_path)\n",
    "            \n",
    "            # Send the email\n",
    "            mail.Send()\n",
    "            \n",
    "            print(\"Email sent successfully.\")\n",
    "    \n",
    "    except ValueError as ve:\n",
    "        print(f\"ValueError: {ve}\")\n",
    "        raise\n",
    "    except Exception as e:\n",
    "        print(f\"An error occurred while sending the email: {e}\")\n",
    "        raise\n",
    "\n",
    "def read_adeck_dat_file_to_df_wo_cleaning(dat_file_path, model_name=None, forecast_datetime=None):\n",
    "\n",
    "# Check if the file exists\n",
    "    if not os.path.exists(dat_file_path):\n",
    "        print(f\"File not found: {dat_file_path}\")\n",
    "        return None\n",
    "\n",
    "    # Define column names based on ATCF A-deck format\n",
    "    columns = [\n",
    "        'Basin', 'CycloneNumber', 'DateTime', 'ModelNumber', 'ModelName', 'ForecastHour',\n",
    "        'Latitude', 'Longitude', 'MaxWindSpeed', 'MinPressure',\n",
    "        'WindRad1', 'WindRad2', 'WindRad3', 'WindRad4', 'StormType',\n",
    "        'Quadrant1', 'Quadrant2', 'Quadrant3', 'Quadrant4',\n",
    "        'Radius1', 'Radius2', 'Radius3', 'Radius4',\n",
    "        'StormName', 'Unused1', 'Unused2'\n",
    "    ]\n",
    "    data = []\n",
    "\n",
    "    # Read the .dat file line by line\n",
    "    try:\n",
    "        with open(dat_file_path, 'r') as file:\n",
    "            for line_number, line in enumerate(file, start=1):\n",
    "                # Remove leading/trailing whitespace\n",
    "                line = line.strip()\n",
    "                # Skip empty lines\n",
    "                if not line:\n",
    "                    continue\n",
    "                # Split the line into fields\n",
    "                fields = line.split(',')\n",
    "                # Strip whitespace from each field\n",
    "                fields = [field.strip() for field in fields]\n",
    "                # Handle variable number of fields\n",
    "                # Create a dictionary for this line\n",
    "                record = {}\n",
    "                num_fields = len(fields)\n",
    "                for i in range(min(num_fields, len(columns))):\n",
    "                    record[columns[i]] = fields[i]\n",
    "                # If there are extra fields, add them as 'ExtraField1', 'ExtraField2', etc.\n",
    "                if num_fields > len(columns):\n",
    "                    for j in range(len(columns), num_fields):\n",
    "                        record[f'ExtraField{j - len(columns) + 1}'] = fields[j]\n",
    "                data.append(record)\n",
    "    except Exception as e:\n",
    "        print(f\"Error reading .dat file at line {line_number}: {e}\")\n",
    "        return None\n",
    "\n",
    "    # Convert the list of dictionaries to a DataFrame\n",
    "    df = pd.DataFrame(data)\n",
    "\n",
    "    if df.empty:\n",
    "        print(\"No data found for the selected forecast date and time.\")\n",
    "        return None\n",
    "\n",
    "    # Convert columns to appropriate data types\n",
    "    df['ForecastHour'] = pd.to_numeric(df['ForecastHour'], errors='coerce')\n",
    "    df['MaxWindSpeed'] = pd.to_numeric(df['MaxWindSpeed'], errors='coerce')\n",
    "    df['MaxWindSpeed_mph'] = df['MaxWindSpeed'] * 1.15078  # Knots to miles per hour\n",
    "    df['Latitude'] = df['Latitude'].apply(f.parse_lat_lon)\n",
    "    df['Longitude'] = df['Longitude'].apply(f.parse_lat_lon)\n",
    "    df['DateTime'] = pd.to_datetime(df['DateTime'], format='%Y%m%d%H', errors='coerce')\n",
    "    df['DateTime'] =  df['DateTime'].dt.tz_localize('UTC')\n",
    "\n",
    "    return(df)"
   ]
  },
  {
   "cell_type": "code",
   "execution_count": 3,
   "metadata": {},
   "outputs": [
    {
     "name": "stdout",
     "output_type": "stream",
     "text": [
      "Current UTC time: 2024-10-11 18:52:18.851035+00:00\n",
      "Adjusted timestamp_utc: 2024-10-11 18:00:00+00:00\n"
     ]
    }
   ],
   "source": [
    "        # Set the current timestamp in UTC\n",
    "        timestamp_utc = datetime.now(timezone.utc)\n",
    "\n",
    "        # Get the current UTC time\n",
    "        now_utc = datetime.now(timezone.utc)\n",
    "\n",
    "        # Define the forecast issuance hours\n",
    "        forecast_hours = [0, 6, 12, 18]\n",
    "\n",
    "        # Get the current hour\n",
    "        current_hour = now_utc.hour\n",
    "\n",
    "        # Find the latest forecast hour less than or equal to the current hour\n",
    "        valid_hours = [hour for hour in forecast_hours if hour <= current_hour]\n",
    "\n",
    "        if valid_hours:\n",
    "            # If there is a valid forecast hour, use the latest one\n",
    "            latest_forecast_hour = max(valid_hours)\n",
    "            # Set timestamp_utc to today at the latest forecast hour\n",
    "            timestamp_utc = now_utc.replace(hour=latest_forecast_hour, minute=0, second=0, microsecond=0)\n",
    "        else:\n",
    "            # If current hour is before the first forecast hour (shouldn't happen but included for completeness)\n",
    "            # Go back to the previous day's last forecast hour\n",
    "            latest_forecast_hour = 18\n",
    "            timestamp_utc = (now_utc - timedelta(days=1)).replace(hour=latest_forecast_hour, minute=0, second=0, microsecond=0)\n",
    "\n",
    "        print(f\"Current UTC time: {now_utc}\")\n",
    "        print(f\"Adjusted timestamp_utc: {timestamp_utc}\")"
   ]
  },
  {
   "cell_type": "code",
   "execution_count": 4,
   "metadata": {},
   "outputs": [
    {
     "data": {
      "text/html": [
       "<div>\n",
       "<style scoped>\n",
       "    .dataframe tbody tr th:only-of-type {\n",
       "        vertical-align: middle;\n",
       "    }\n",
       "\n",
       "    .dataframe tbody tr th {\n",
       "        vertical-align: top;\n",
       "    }\n",
       "\n",
       "    .dataframe thead th {\n",
       "        text-align: right;\n",
       "    }\n",
       "</style>\n",
       "<table border=\"1\" class=\"dataframe\">\n",
       "  <thead>\n",
       "    <tr style=\"text-align: right;\">\n",
       "      <th></th>\n",
       "      <th>Basin</th>\n",
       "      <th>Storm_Number</th>\n",
       "      <th>Storm_Name</th>\n",
       "      <th>Storm_Start_Date</th>\n",
       "      <th>Storm_End_Date</th>\n",
       "      <th>Storm_Year</th>\n",
       "      <th>adeck_path</th>\n",
       "    </tr>\n",
       "  </thead>\n",
       "  <tbody>\n",
       "    <tr>\n",
       "      <th>247</th>\n",
       "      <td>al</td>\n",
       "      <td>13</td>\n",
       "      <td>Leslie</td>\n",
       "      <td>2024-09-30 18:00:00</td>\n",
       "      <td>2024-10-11 12:00:00+00:00</td>\n",
       "      <td>2024.0</td>\n",
       "      <td>./forecast_data/aal132024.dat</td>\n",
       "    </tr>\n",
       "    <tr>\n",
       "      <th>3070</th>\n",
       "      <td>al</td>\n",
       "      <td>14</td>\n",
       "      <td>Milton</td>\n",
       "      <td>2024-10-05 00:00:00</td>\n",
       "      <td>2024-10-11 00:00:00+00:00</td>\n",
       "      <td>2024.0</td>\n",
       "      <td>./forecast_data/aal142024.dat</td>\n",
       "    </tr>\n",
       "  </tbody>\n",
       "</table>\n",
       "</div>"
      ],
      "text/plain": [
       "     Basin  Storm_Number Storm_Name     Storm_Start_Date  \\\n",
       "247     al            13     Leslie  2024-09-30 18:00:00   \n",
       "3070    al            14     Milton  2024-10-05 00:00:00   \n",
       "\n",
       "                Storm_End_Date  Storm_Year                     adeck_path  \n",
       "247  2024-10-11 12:00:00+00:00      2024.0  ./forecast_data/aal132024.dat  \n",
       "3070 2024-10-11 00:00:00+00:00      2024.0  ./forecast_data/aal142024.dat  "
      ]
     },
     "execution_count": 4,
     "metadata": {},
     "output_type": "execute_result"
    }
   ],
   "source": [
    "\n",
    "# Get the current time in UTC\n",
    "timestamp_utc = timestamp_utc\n",
    "#timestamp_utc = pd.to_datetime(\"2024-10-07 12:00\").tz_localize('UTC')\n",
    "\n",
    "recent_adeck_paths = get_recent_adeck_paths(root_dir+'./storm_adeck_directory.csv',timestamp_utc)\n",
    "recent_adeck_paths=recent_adeck_paths[recent_adeck_paths['Storm_Name']!='Invest'] #Remove Invests from list\n",
    "recent_adeck_paths "
   ]
  },
  {
   "cell_type": "code",
   "execution_count": 13,
   "metadata": {},
   "outputs": [
    {
     "ename": "NameError",
     "evalue": "name 'df' is not defined",
     "output_type": "error",
     "traceback": [
      "\u001b[1;31m---------------------------------------------------------------------------\u001b[0m",
      "\u001b[1;31mNameError\u001b[0m                                 Traceback (most recent call last)",
      "Cell \u001b[1;32mIn[13], line 6\u001b[0m\n\u001b[0;32m      4\u001b[0m \u001b[38;5;66;03m# Filter by forecast datetime if provided\u001b[39;00m\n\u001b[0;32m      5\u001b[0m \u001b[38;5;28;01mif\u001b[39;00m timestamp_utc:\n\u001b[1;32m----> 6\u001b[0m     storm_dat \u001b[38;5;241m=\u001b[39m \u001b[43mdf\u001b[49m[df[\u001b[38;5;124m'\u001b[39m\u001b[38;5;124mDateTime\u001b[39m\u001b[38;5;124m'\u001b[39m] \u001b[38;5;241m==\u001b[39m timestamp_utc]\n\u001b[0;32m      7\u001b[0m storm_dat\n",
      "\u001b[1;31mNameError\u001b[0m: name 'df' is not defined"
     ]
    }
   ],
   "source": [
    "storm_dat=read_adeck_dat_file_to_df_wo_cleaning(row['adeck_path'],forecast_datetime=timestamp_utc)\n",
    "storm_dat\n",
    "\n",
    "# Filter by forecast datetime if provided\n",
    "if timestamp_utc:\n",
    "    storm_dat = storm_dat[storm_dat['DateTime'] == timestamp_utc]\n",
    "storm_dat"
   ]
  },
  {
   "cell_type": "code",
   "execution_count": 5,
   "metadata": {},
   "outputs": [
    {
     "name": "stdout",
     "output_type": "stream",
     "text": [
      "All data has been dropped after removing rows with missing values.\n",
      "Appears we have no data for storm Leslie\n",
      "All data has been dropped after removing rows with missing values.\n",
      "Appears we have no data for storm Milton\n"
     ]
    }
   ],
   "source": [
    "cones=gpd.GeoDataFrame()\n",
    "for index, row in recent_adeck_paths.iterrows():\n",
    "    storm_dat=f.read_adeck_dat_file_to_gdf(row['adeck_path'],forecast_datetime=timestamp_utc)\n",
    "    try:\n",
    "        if len(storm_dat[storm_dat['ForecastHour']>0])>0:\n",
    "            cone=f.create_uncertainty_cone(storm_dat)\n",
    "            cone['Basin']=row['Basin']\n",
    "            cone['Storm_Number']=row['Storm_Number']\n",
    "            cone['Storm_Name']=row['Storm_Name']\n",
    "            cone['last_update']=row['Storm_End_Date']\n",
    "            cone['adeck_path']=row['adeck_path']\n",
    "            cones=pd.concat([cone,cones])\n",
    "        else: #There are no forecasts for this storm\n",
    "            print('There are no forecasts for storm ' + row['Storm_Name'])\n",
    "    except Exception as e:\n",
    "        print(f\"Appears we have no data for storm {row['Storm_Name']}\")"
   ]
  },
  {
   "cell_type": "code",
   "execution_count": 61,
   "metadata": {},
   "outputs": [
    {
     "name": "stdout",
     "output_type": "stream",
     "text": [
      "Removed 37 rows with Latitude or Longitude equal to 0.\n"
     ]
    },
    {
     "name": "stderr",
     "output_type": "stream",
     "text": [
      "c:\\ProgramData\\anaconda3\\envs\\EventMonitor\\Lib\\site-packages\\geopandas\\geodataframe.py:1543: SettingWithCopyWarning:\n",
      "\n",
      "\n",
      "A value is trying to be set on a copy of a slice from a DataFrame.\n",
      "Try using .loc[row_indexer,col_indexer] = value instead\n",
      "\n",
      "See the caveats in the documentation: https://pandas.pydata.org/pandas-docs/stable/user_guide/indexing.html#returning-a-view-versus-a-copy\n",
      "\n"
     ]
    },
    {
     "data": {
      "text/html": [
       "<div>\n",
       "<style scoped>\n",
       "    .dataframe tbody tr th:only-of-type {\n",
       "        vertical-align: middle;\n",
       "    }\n",
       "\n",
       "    .dataframe tbody tr th {\n",
       "        vertical-align: top;\n",
       "    }\n",
       "\n",
       "    .dataframe thead th {\n",
       "        text-align: right;\n",
       "    }\n",
       "</style>\n",
       "<table border=\"1\" class=\"dataframe\">\n",
       "  <thead>\n",
       "    <tr style=\"text-align: right;\">\n",
       "      <th></th>\n",
       "      <th>Basin</th>\n",
       "      <th>CycloneNumber</th>\n",
       "      <th>DateTime</th>\n",
       "      <th>ModelNumber</th>\n",
       "      <th>ModelName</th>\n",
       "      <th>ForecastHour</th>\n",
       "      <th>Latitude</th>\n",
       "      <th>Longitude</th>\n",
       "      <th>MaxWindSpeed</th>\n",
       "      <th>MinPressure</th>\n",
       "      <th>...</th>\n",
       "      <th>ExtraField15</th>\n",
       "      <th>ExtraField16</th>\n",
       "      <th>ExtraField17</th>\n",
       "      <th>ExtraField18</th>\n",
       "      <th>ExtraField19</th>\n",
       "      <th>ExtraField20</th>\n",
       "      <th>MaxWindSpeed_mph</th>\n",
       "      <th>ValidTime</th>\n",
       "      <th>Category</th>\n",
       "      <th>geometry</th>\n",
       "    </tr>\n",
       "  </thead>\n",
       "  <tbody>\n",
       "    <tr>\n",
       "      <th>48328</th>\n",
       "      <td>AL</td>\n",
       "      <td>14</td>\n",
       "      <td>2024-10-07 12:00:00+00:00</td>\n",
       "      <td>03</td>\n",
       "      <td>OFCL</td>\n",
       "      <td>0</td>\n",
       "      <td>21.8</td>\n",
       "      <td>-92.2</td>\n",
       "      <td>120</td>\n",
       "      <td>0</td>\n",
       "      <td>...</td>\n",
       "      <td>NaN</td>\n",
       "      <td>NaN</td>\n",
       "      <td>NaN</td>\n",
       "      <td>NaN</td>\n",
       "      <td>NaN</td>\n",
       "      <td>NaN</td>\n",
       "      <td>138.0936</td>\n",
       "      <td>2024-10-07 12:00:00+00:00</td>\n",
       "      <td>Category 4</td>\n",
       "      <td>POINT (-92.20000 21.80000)</td>\n",
       "    </tr>\n",
       "    <tr>\n",
       "      <th>48329</th>\n",
       "      <td>AL</td>\n",
       "      <td>14</td>\n",
       "      <td>2024-10-07 12:00:00+00:00</td>\n",
       "      <td>03</td>\n",
       "      <td>OFCL</td>\n",
       "      <td>0</td>\n",
       "      <td>21.8</td>\n",
       "      <td>-92.2</td>\n",
       "      <td>120</td>\n",
       "      <td>0</td>\n",
       "      <td>...</td>\n",
       "      <td>NaN</td>\n",
       "      <td>NaN</td>\n",
       "      <td>NaN</td>\n",
       "      <td>NaN</td>\n",
       "      <td>NaN</td>\n",
       "      <td>NaN</td>\n",
       "      <td>138.0936</td>\n",
       "      <td>2024-10-07 12:00:00+00:00</td>\n",
       "      <td>Category 4</td>\n",
       "      <td>POINT (-92.20000 21.80000)</td>\n",
       "    </tr>\n",
       "    <tr>\n",
       "      <th>48330</th>\n",
       "      <td>AL</td>\n",
       "      <td>14</td>\n",
       "      <td>2024-10-07 12:00:00+00:00</td>\n",
       "      <td>03</td>\n",
       "      <td>OFCL</td>\n",
       "      <td>0</td>\n",
       "      <td>21.8</td>\n",
       "      <td>-92.2</td>\n",
       "      <td>120</td>\n",
       "      <td>0</td>\n",
       "      <td>...</td>\n",
       "      <td>NaN</td>\n",
       "      <td>NaN</td>\n",
       "      <td>NaN</td>\n",
       "      <td>NaN</td>\n",
       "      <td>NaN</td>\n",
       "      <td>NaN</td>\n",
       "      <td>138.0936</td>\n",
       "      <td>2024-10-07 12:00:00+00:00</td>\n",
       "      <td>Category 4</td>\n",
       "      <td>POINT (-92.20000 21.80000)</td>\n",
       "    </tr>\n",
       "    <tr>\n",
       "      <th>48331</th>\n",
       "      <td>AL</td>\n",
       "      <td>14</td>\n",
       "      <td>2024-10-07 12:00:00+00:00</td>\n",
       "      <td>03</td>\n",
       "      <td>OFCL</td>\n",
       "      <td>3</td>\n",
       "      <td>21.7</td>\n",
       "      <td>-91.7</td>\n",
       "      <td>135</td>\n",
       "      <td>933</td>\n",
       "      <td>...</td>\n",
       "      <td>NaN</td>\n",
       "      <td>NaN</td>\n",
       "      <td>NaN</td>\n",
       "      <td>NaN</td>\n",
       "      <td>NaN</td>\n",
       "      <td>NaN</td>\n",
       "      <td>155.3553</td>\n",
       "      <td>2024-10-07 15:00:00+00:00</td>\n",
       "      <td>Category 4</td>\n",
       "      <td>POINT (-91.70000 21.70000)</td>\n",
       "    </tr>\n",
       "    <tr>\n",
       "      <th>48332</th>\n",
       "      <td>AL</td>\n",
       "      <td>14</td>\n",
       "      <td>2024-10-07 12:00:00+00:00</td>\n",
       "      <td>03</td>\n",
       "      <td>OFCL</td>\n",
       "      <td>3</td>\n",
       "      <td>21.7</td>\n",
       "      <td>-91.7</td>\n",
       "      <td>135</td>\n",
       "      <td>933</td>\n",
       "      <td>...</td>\n",
       "      <td>NaN</td>\n",
       "      <td>NaN</td>\n",
       "      <td>NaN</td>\n",
       "      <td>NaN</td>\n",
       "      <td>NaN</td>\n",
       "      <td>NaN</td>\n",
       "      <td>155.3553</td>\n",
       "      <td>2024-10-07 15:00:00+00:00</td>\n",
       "      <td>Category 4</td>\n",
       "      <td>POINT (-91.70000 21.70000)</td>\n",
       "    </tr>\n",
       "    <tr>\n",
       "      <th>48333</th>\n",
       "      <td>AL</td>\n",
       "      <td>14</td>\n",
       "      <td>2024-10-07 12:00:00+00:00</td>\n",
       "      <td>03</td>\n",
       "      <td>OFCL</td>\n",
       "      <td>3</td>\n",
       "      <td>21.7</td>\n",
       "      <td>-91.7</td>\n",
       "      <td>135</td>\n",
       "      <td>933</td>\n",
       "      <td>...</td>\n",
       "      <td>NaN</td>\n",
       "      <td>NaN</td>\n",
       "      <td>NaN</td>\n",
       "      <td>NaN</td>\n",
       "      <td>NaN</td>\n",
       "      <td>NaN</td>\n",
       "      <td>155.3553</td>\n",
       "      <td>2024-10-07 15:00:00+00:00</td>\n",
       "      <td>Category 4</td>\n",
       "      <td>POINT (-91.70000 21.70000)</td>\n",
       "    </tr>\n",
       "    <tr>\n",
       "      <th>48334</th>\n",
       "      <td>AL</td>\n",
       "      <td>14</td>\n",
       "      <td>2024-10-07 12:00:00+00:00</td>\n",
       "      <td>03</td>\n",
       "      <td>OFCL</td>\n",
       "      <td>12</td>\n",
       "      <td>21.5</td>\n",
       "      <td>-90.4</td>\n",
       "      <td>145</td>\n",
       "      <td>0</td>\n",
       "      <td>...</td>\n",
       "      <td>NaN</td>\n",
       "      <td>NaN</td>\n",
       "      <td>NaN</td>\n",
       "      <td>NaN</td>\n",
       "      <td>NaN</td>\n",
       "      <td>NaN</td>\n",
       "      <td>166.8631</td>\n",
       "      <td>2024-10-08 00:00:00+00:00</td>\n",
       "      <td>Category 5</td>\n",
       "      <td>POINT (-90.40000 21.50000)</td>\n",
       "    </tr>\n",
       "    <tr>\n",
       "      <th>48335</th>\n",
       "      <td>AL</td>\n",
       "      <td>14</td>\n",
       "      <td>2024-10-07 12:00:00+00:00</td>\n",
       "      <td>03</td>\n",
       "      <td>OFCL</td>\n",
       "      <td>12</td>\n",
       "      <td>21.5</td>\n",
       "      <td>-90.4</td>\n",
       "      <td>145</td>\n",
       "      <td>0</td>\n",
       "      <td>...</td>\n",
       "      <td>NaN</td>\n",
       "      <td>NaN</td>\n",
       "      <td>NaN</td>\n",
       "      <td>NaN</td>\n",
       "      <td>NaN</td>\n",
       "      <td>NaN</td>\n",
       "      <td>166.8631</td>\n",
       "      <td>2024-10-08 00:00:00+00:00</td>\n",
       "      <td>Category 5</td>\n",
       "      <td>POINT (-90.40000 21.50000)</td>\n",
       "    </tr>\n",
       "    <tr>\n",
       "      <th>48336</th>\n",
       "      <td>AL</td>\n",
       "      <td>14</td>\n",
       "      <td>2024-10-07 12:00:00+00:00</td>\n",
       "      <td>03</td>\n",
       "      <td>OFCL</td>\n",
       "      <td>12</td>\n",
       "      <td>21.5</td>\n",
       "      <td>-90.4</td>\n",
       "      <td>145</td>\n",
       "      <td>0</td>\n",
       "      <td>...</td>\n",
       "      <td>NaN</td>\n",
       "      <td>NaN</td>\n",
       "      <td>NaN</td>\n",
       "      <td>NaN</td>\n",
       "      <td>NaN</td>\n",
       "      <td>NaN</td>\n",
       "      <td>166.8631</td>\n",
       "      <td>2024-10-08 00:00:00+00:00</td>\n",
       "      <td>Category 5</td>\n",
       "      <td>POINT (-90.40000 21.50000)</td>\n",
       "    </tr>\n",
       "    <tr>\n",
       "      <th>48337</th>\n",
       "      <td>AL</td>\n",
       "      <td>14</td>\n",
       "      <td>2024-10-07 12:00:00+00:00</td>\n",
       "      <td>03</td>\n",
       "      <td>OFCL</td>\n",
       "      <td>24</td>\n",
       "      <td>22.2</td>\n",
       "      <td>-88.3</td>\n",
       "      <td>140</td>\n",
       "      <td>0</td>\n",
       "      <td>...</td>\n",
       "      <td>NaN</td>\n",
       "      <td>NaN</td>\n",
       "      <td>NaN</td>\n",
       "      <td>NaN</td>\n",
       "      <td>NaN</td>\n",
       "      <td>NaN</td>\n",
       "      <td>161.1092</td>\n",
       "      <td>2024-10-08 12:00:00+00:00</td>\n",
       "      <td>Category 5</td>\n",
       "      <td>POINT (-88.30000 22.20000)</td>\n",
       "    </tr>\n",
       "    <tr>\n",
       "      <th>48338</th>\n",
       "      <td>AL</td>\n",
       "      <td>14</td>\n",
       "      <td>2024-10-07 12:00:00+00:00</td>\n",
       "      <td>03</td>\n",
       "      <td>OFCL</td>\n",
       "      <td>24</td>\n",
       "      <td>22.2</td>\n",
       "      <td>-88.3</td>\n",
       "      <td>140</td>\n",
       "      <td>0</td>\n",
       "      <td>...</td>\n",
       "      <td>NaN</td>\n",
       "      <td>NaN</td>\n",
       "      <td>NaN</td>\n",
       "      <td>NaN</td>\n",
       "      <td>NaN</td>\n",
       "      <td>NaN</td>\n",
       "      <td>161.1092</td>\n",
       "      <td>2024-10-08 12:00:00+00:00</td>\n",
       "      <td>Category 5</td>\n",
       "      <td>POINT (-88.30000 22.20000)</td>\n",
       "    </tr>\n",
       "    <tr>\n",
       "      <th>48339</th>\n",
       "      <td>AL</td>\n",
       "      <td>14</td>\n",
       "      <td>2024-10-07 12:00:00+00:00</td>\n",
       "      <td>03</td>\n",
       "      <td>OFCL</td>\n",
       "      <td>24</td>\n",
       "      <td>22.2</td>\n",
       "      <td>-88.3</td>\n",
       "      <td>140</td>\n",
       "      <td>0</td>\n",
       "      <td>...</td>\n",
       "      <td>NaN</td>\n",
       "      <td>NaN</td>\n",
       "      <td>NaN</td>\n",
       "      <td>NaN</td>\n",
       "      <td>NaN</td>\n",
       "      <td>NaN</td>\n",
       "      <td>161.1092</td>\n",
       "      <td>2024-10-08 12:00:00+00:00</td>\n",
       "      <td>Category 5</td>\n",
       "      <td>POINT (-88.30000 22.20000)</td>\n",
       "    </tr>\n",
       "    <tr>\n",
       "      <th>48340</th>\n",
       "      <td>AL</td>\n",
       "      <td>14</td>\n",
       "      <td>2024-10-07 12:00:00+00:00</td>\n",
       "      <td>03</td>\n",
       "      <td>OFCL</td>\n",
       "      <td>36</td>\n",
       "      <td>23.6</td>\n",
       "      <td>-86.4</td>\n",
       "      <td>135</td>\n",
       "      <td>0</td>\n",
       "      <td>...</td>\n",
       "      <td>NaN</td>\n",
       "      <td>NaN</td>\n",
       "      <td>NaN</td>\n",
       "      <td>NaN</td>\n",
       "      <td>NaN</td>\n",
       "      <td>NaN</td>\n",
       "      <td>155.3553</td>\n",
       "      <td>2024-10-09 00:00:00+00:00</td>\n",
       "      <td>Category 4</td>\n",
       "      <td>POINT (-86.40000 23.60000)</td>\n",
       "    </tr>\n",
       "    <tr>\n",
       "      <th>48341</th>\n",
       "      <td>AL</td>\n",
       "      <td>14</td>\n",
       "      <td>2024-10-07 12:00:00+00:00</td>\n",
       "      <td>03</td>\n",
       "      <td>OFCL</td>\n",
       "      <td>36</td>\n",
       "      <td>23.6</td>\n",
       "      <td>-86.4</td>\n",
       "      <td>135</td>\n",
       "      <td>0</td>\n",
       "      <td>...</td>\n",
       "      <td>NaN</td>\n",
       "      <td>NaN</td>\n",
       "      <td>NaN</td>\n",
       "      <td>NaN</td>\n",
       "      <td>NaN</td>\n",
       "      <td>NaN</td>\n",
       "      <td>155.3553</td>\n",
       "      <td>2024-10-09 00:00:00+00:00</td>\n",
       "      <td>Category 4</td>\n",
       "      <td>POINT (-86.40000 23.60000)</td>\n",
       "    </tr>\n",
       "    <tr>\n",
       "      <th>48342</th>\n",
       "      <td>AL</td>\n",
       "      <td>14</td>\n",
       "      <td>2024-10-07 12:00:00+00:00</td>\n",
       "      <td>03</td>\n",
       "      <td>OFCL</td>\n",
       "      <td>36</td>\n",
       "      <td>23.6</td>\n",
       "      <td>-86.4</td>\n",
       "      <td>135</td>\n",
       "      <td>0</td>\n",
       "      <td>...</td>\n",
       "      <td>NaN</td>\n",
       "      <td>NaN</td>\n",
       "      <td>NaN</td>\n",
       "      <td>NaN</td>\n",
       "      <td>NaN</td>\n",
       "      <td>NaN</td>\n",
       "      <td>155.3553</td>\n",
       "      <td>2024-10-09 00:00:00+00:00</td>\n",
       "      <td>Category 4</td>\n",
       "      <td>POINT (-86.40000 23.60000)</td>\n",
       "    </tr>\n",
       "    <tr>\n",
       "      <th>48343</th>\n",
       "      <td>AL</td>\n",
       "      <td>14</td>\n",
       "      <td>2024-10-07 12:00:00+00:00</td>\n",
       "      <td>03</td>\n",
       "      <td>OFCL</td>\n",
       "      <td>48</td>\n",
       "      <td>25.5</td>\n",
       "      <td>-84.7</td>\n",
       "      <td>125</td>\n",
       "      <td>0</td>\n",
       "      <td>...</td>\n",
       "      <td>NaN</td>\n",
       "      <td>NaN</td>\n",
       "      <td>NaN</td>\n",
       "      <td>NaN</td>\n",
       "      <td>NaN</td>\n",
       "      <td>NaN</td>\n",
       "      <td>143.8475</td>\n",
       "      <td>2024-10-09 12:00:00+00:00</td>\n",
       "      <td>Category 4</td>\n",
       "      <td>POINT (-84.70000 25.50000)</td>\n",
       "    </tr>\n",
       "    <tr>\n",
       "      <th>48344</th>\n",
       "      <td>AL</td>\n",
       "      <td>14</td>\n",
       "      <td>2024-10-07 12:00:00+00:00</td>\n",
       "      <td>03</td>\n",
       "      <td>OFCL</td>\n",
       "      <td>48</td>\n",
       "      <td>25.5</td>\n",
       "      <td>-84.7</td>\n",
       "      <td>125</td>\n",
       "      <td>0</td>\n",
       "      <td>...</td>\n",
       "      <td>NaN</td>\n",
       "      <td>NaN</td>\n",
       "      <td>NaN</td>\n",
       "      <td>NaN</td>\n",
       "      <td>NaN</td>\n",
       "      <td>NaN</td>\n",
       "      <td>143.8475</td>\n",
       "      <td>2024-10-09 12:00:00+00:00</td>\n",
       "      <td>Category 4</td>\n",
       "      <td>POINT (-84.70000 25.50000)</td>\n",
       "    </tr>\n",
       "    <tr>\n",
       "      <th>48345</th>\n",
       "      <td>AL</td>\n",
       "      <td>14</td>\n",
       "      <td>2024-10-07 12:00:00+00:00</td>\n",
       "      <td>03</td>\n",
       "      <td>OFCL</td>\n",
       "      <td>48</td>\n",
       "      <td>25.5</td>\n",
       "      <td>-84.7</td>\n",
       "      <td>125</td>\n",
       "      <td>0</td>\n",
       "      <td>...</td>\n",
       "      <td>NaN</td>\n",
       "      <td>NaN</td>\n",
       "      <td>NaN</td>\n",
       "      <td>NaN</td>\n",
       "      <td>NaN</td>\n",
       "      <td>NaN</td>\n",
       "      <td>143.8475</td>\n",
       "      <td>2024-10-09 12:00:00+00:00</td>\n",
       "      <td>Category 4</td>\n",
       "      <td>POINT (-84.70000 25.50000)</td>\n",
       "    </tr>\n",
       "    <tr>\n",
       "      <th>48346</th>\n",
       "      <td>AL</td>\n",
       "      <td>14</td>\n",
       "      <td>2024-10-07 12:00:00+00:00</td>\n",
       "      <td>03</td>\n",
       "      <td>OFCL</td>\n",
       "      <td>60</td>\n",
       "      <td>27.7</td>\n",
       "      <td>-82.8</td>\n",
       "      <td>110</td>\n",
       "      <td>0</td>\n",
       "      <td>...</td>\n",
       "      <td>NaN</td>\n",
       "      <td>NaN</td>\n",
       "      <td>NaN</td>\n",
       "      <td>NaN</td>\n",
       "      <td>NaN</td>\n",
       "      <td>NaN</td>\n",
       "      <td>126.5858</td>\n",
       "      <td>2024-10-10 00:00:00+00:00</td>\n",
       "      <td>Category 3</td>\n",
       "      <td>POINT (-82.80000 27.70000)</td>\n",
       "    </tr>\n",
       "    <tr>\n",
       "      <th>48347</th>\n",
       "      <td>AL</td>\n",
       "      <td>14</td>\n",
       "      <td>2024-10-07 12:00:00+00:00</td>\n",
       "      <td>03</td>\n",
       "      <td>OFCL</td>\n",
       "      <td>60</td>\n",
       "      <td>27.7</td>\n",
       "      <td>-82.8</td>\n",
       "      <td>110</td>\n",
       "      <td>0</td>\n",
       "      <td>...</td>\n",
       "      <td>NaN</td>\n",
       "      <td>NaN</td>\n",
       "      <td>NaN</td>\n",
       "      <td>NaN</td>\n",
       "      <td>NaN</td>\n",
       "      <td>NaN</td>\n",
       "      <td>126.5858</td>\n",
       "      <td>2024-10-10 00:00:00+00:00</td>\n",
       "      <td>Category 3</td>\n",
       "      <td>POINT (-82.80000 27.70000)</td>\n",
       "    </tr>\n",
       "    <tr>\n",
       "      <th>48348</th>\n",
       "      <td>AL</td>\n",
       "      <td>14</td>\n",
       "      <td>2024-10-07 12:00:00+00:00</td>\n",
       "      <td>03</td>\n",
       "      <td>OFCL</td>\n",
       "      <td>72</td>\n",
       "      <td>29.2</td>\n",
       "      <td>-80.1</td>\n",
       "      <td>80</td>\n",
       "      <td>0</td>\n",
       "      <td>...</td>\n",
       "      <td>NaN</td>\n",
       "      <td>NaN</td>\n",
       "      <td>NaN</td>\n",
       "      <td>NaN</td>\n",
       "      <td>NaN</td>\n",
       "      <td>NaN</td>\n",
       "      <td>92.0624</td>\n",
       "      <td>2024-10-10 12:00:00+00:00</td>\n",
       "      <td>Category 1</td>\n",
       "      <td>POINT (-80.10000 29.20000)</td>\n",
       "    </tr>\n",
       "    <tr>\n",
       "      <th>48349</th>\n",
       "      <td>AL</td>\n",
       "      <td>14</td>\n",
       "      <td>2024-10-07 12:00:00+00:00</td>\n",
       "      <td>03</td>\n",
       "      <td>OFCL</td>\n",
       "      <td>72</td>\n",
       "      <td>29.2</td>\n",
       "      <td>-80.1</td>\n",
       "      <td>80</td>\n",
       "      <td>0</td>\n",
       "      <td>...</td>\n",
       "      <td>NaN</td>\n",
       "      <td>NaN</td>\n",
       "      <td>NaN</td>\n",
       "      <td>NaN</td>\n",
       "      <td>NaN</td>\n",
       "      <td>NaN</td>\n",
       "      <td>92.0624</td>\n",
       "      <td>2024-10-10 12:00:00+00:00</td>\n",
       "      <td>Category 1</td>\n",
       "      <td>POINT (-80.10000 29.20000)</td>\n",
       "    </tr>\n",
       "    <tr>\n",
       "      <th>48350</th>\n",
       "      <td>AL</td>\n",
       "      <td>14</td>\n",
       "      <td>2024-10-07 12:00:00+00:00</td>\n",
       "      <td>03</td>\n",
       "      <td>OFCL</td>\n",
       "      <td>96</td>\n",
       "      <td>30.8</td>\n",
       "      <td>-71.0</td>\n",
       "      <td>55</td>\n",
       "      <td>0</td>\n",
       "      <td>...</td>\n",
       "      <td>NaN</td>\n",
       "      <td>NaN</td>\n",
       "      <td>NaN</td>\n",
       "      <td>NaN</td>\n",
       "      <td>NaN</td>\n",
       "      <td>NaN</td>\n",
       "      <td>63.2929</td>\n",
       "      <td>2024-10-11 12:00:00+00:00</td>\n",
       "      <td>Tropical Storm</td>\n",
       "      <td>POINT (-71.00000 30.80000)</td>\n",
       "    </tr>\n",
       "    <tr>\n",
       "      <th>48351</th>\n",
       "      <td>AL</td>\n",
       "      <td>14</td>\n",
       "      <td>2024-10-07 12:00:00+00:00</td>\n",
       "      <td>03</td>\n",
       "      <td>OFCL</td>\n",
       "      <td>96</td>\n",
       "      <td>30.8</td>\n",
       "      <td>-71.0</td>\n",
       "      <td>55</td>\n",
       "      <td>0</td>\n",
       "      <td>...</td>\n",
       "      <td>NaN</td>\n",
       "      <td>NaN</td>\n",
       "      <td>NaN</td>\n",
       "      <td>NaN</td>\n",
       "      <td>NaN</td>\n",
       "      <td>NaN</td>\n",
       "      <td>63.2929</td>\n",
       "      <td>2024-10-11 12:00:00+00:00</td>\n",
       "      <td>Tropical Storm</td>\n",
       "      <td>POINT (-71.00000 30.80000)</td>\n",
       "    </tr>\n",
       "    <tr>\n",
       "      <th>48352</th>\n",
       "      <td>AL</td>\n",
       "      <td>14</td>\n",
       "      <td>2024-10-07 12:00:00+00:00</td>\n",
       "      <td>03</td>\n",
       "      <td>OFCL</td>\n",
       "      <td>120</td>\n",
       "      <td>31.0</td>\n",
       "      <td>-66.0</td>\n",
       "      <td>45</td>\n",
       "      <td>0</td>\n",
       "      <td>...</td>\n",
       "      <td>NaN</td>\n",
       "      <td>NaN</td>\n",
       "      <td>NaN</td>\n",
       "      <td>NaN</td>\n",
       "      <td>NaN</td>\n",
       "      <td>NaN</td>\n",
       "      <td>51.7851</td>\n",
       "      <td>2024-10-12 12:00:00+00:00</td>\n",
       "      <td>Tropical Storm</td>\n",
       "      <td>POINT (-66.00000 31.00000)</td>\n",
       "    </tr>\n",
       "  </tbody>\n",
       "</table>\n",
       "<p>25 rows × 50 columns</p>\n",
       "</div>"
      ],
      "text/plain": [
       "      Basin CycloneNumber                  DateTime ModelNumber ModelName  \\\n",
       "48328    AL            14 2024-10-07 12:00:00+00:00          03      OFCL   \n",
       "48329    AL            14 2024-10-07 12:00:00+00:00          03      OFCL   \n",
       "48330    AL            14 2024-10-07 12:00:00+00:00          03      OFCL   \n",
       "48331    AL            14 2024-10-07 12:00:00+00:00          03      OFCL   \n",
       "48332    AL            14 2024-10-07 12:00:00+00:00          03      OFCL   \n",
       "48333    AL            14 2024-10-07 12:00:00+00:00          03      OFCL   \n",
       "48334    AL            14 2024-10-07 12:00:00+00:00          03      OFCL   \n",
       "48335    AL            14 2024-10-07 12:00:00+00:00          03      OFCL   \n",
       "48336    AL            14 2024-10-07 12:00:00+00:00          03      OFCL   \n",
       "48337    AL            14 2024-10-07 12:00:00+00:00          03      OFCL   \n",
       "48338    AL            14 2024-10-07 12:00:00+00:00          03      OFCL   \n",
       "48339    AL            14 2024-10-07 12:00:00+00:00          03      OFCL   \n",
       "48340    AL            14 2024-10-07 12:00:00+00:00          03      OFCL   \n",
       "48341    AL            14 2024-10-07 12:00:00+00:00          03      OFCL   \n",
       "48342    AL            14 2024-10-07 12:00:00+00:00          03      OFCL   \n",
       "48343    AL            14 2024-10-07 12:00:00+00:00          03      OFCL   \n",
       "48344    AL            14 2024-10-07 12:00:00+00:00          03      OFCL   \n",
       "48345    AL            14 2024-10-07 12:00:00+00:00          03      OFCL   \n",
       "48346    AL            14 2024-10-07 12:00:00+00:00          03      OFCL   \n",
       "48347    AL            14 2024-10-07 12:00:00+00:00          03      OFCL   \n",
       "48348    AL            14 2024-10-07 12:00:00+00:00          03      OFCL   \n",
       "48349    AL            14 2024-10-07 12:00:00+00:00          03      OFCL   \n",
       "48350    AL            14 2024-10-07 12:00:00+00:00          03      OFCL   \n",
       "48351    AL            14 2024-10-07 12:00:00+00:00          03      OFCL   \n",
       "48352    AL            14 2024-10-07 12:00:00+00:00          03      OFCL   \n",
       "\n",
       "       ForecastHour  Latitude  Longitude  MaxWindSpeed MinPressure  ...  \\\n",
       "48328             0      21.8      -92.2           120           0  ...   \n",
       "48329             0      21.8      -92.2           120           0  ...   \n",
       "48330             0      21.8      -92.2           120           0  ...   \n",
       "48331             3      21.7      -91.7           135         933  ...   \n",
       "48332             3      21.7      -91.7           135         933  ...   \n",
       "48333             3      21.7      -91.7           135         933  ...   \n",
       "48334            12      21.5      -90.4           145           0  ...   \n",
       "48335            12      21.5      -90.4           145           0  ...   \n",
       "48336            12      21.5      -90.4           145           0  ...   \n",
       "48337            24      22.2      -88.3           140           0  ...   \n",
       "48338            24      22.2      -88.3           140           0  ...   \n",
       "48339            24      22.2      -88.3           140           0  ...   \n",
       "48340            36      23.6      -86.4           135           0  ...   \n",
       "48341            36      23.6      -86.4           135           0  ...   \n",
       "48342            36      23.6      -86.4           135           0  ...   \n",
       "48343            48      25.5      -84.7           125           0  ...   \n",
       "48344            48      25.5      -84.7           125           0  ...   \n",
       "48345            48      25.5      -84.7           125           0  ...   \n",
       "48346            60      27.7      -82.8           110           0  ...   \n",
       "48347            60      27.7      -82.8           110           0  ...   \n",
       "48348            72      29.2      -80.1            80           0  ...   \n",
       "48349            72      29.2      -80.1            80           0  ...   \n",
       "48350            96      30.8      -71.0            55           0  ...   \n",
       "48351            96      30.8      -71.0            55           0  ...   \n",
       "48352           120      31.0      -66.0            45           0  ...   \n",
       "\n",
       "      ExtraField15 ExtraField16 ExtraField17 ExtraField18 ExtraField19  \\\n",
       "48328          NaN          NaN          NaN          NaN          NaN   \n",
       "48329          NaN          NaN          NaN          NaN          NaN   \n",
       "48330          NaN          NaN          NaN          NaN          NaN   \n",
       "48331          NaN          NaN          NaN          NaN          NaN   \n",
       "48332          NaN          NaN          NaN          NaN          NaN   \n",
       "48333          NaN          NaN          NaN          NaN          NaN   \n",
       "48334          NaN          NaN          NaN          NaN          NaN   \n",
       "48335          NaN          NaN          NaN          NaN          NaN   \n",
       "48336          NaN          NaN          NaN          NaN          NaN   \n",
       "48337          NaN          NaN          NaN          NaN          NaN   \n",
       "48338          NaN          NaN          NaN          NaN          NaN   \n",
       "48339          NaN          NaN          NaN          NaN          NaN   \n",
       "48340          NaN          NaN          NaN          NaN          NaN   \n",
       "48341          NaN          NaN          NaN          NaN          NaN   \n",
       "48342          NaN          NaN          NaN          NaN          NaN   \n",
       "48343          NaN          NaN          NaN          NaN          NaN   \n",
       "48344          NaN          NaN          NaN          NaN          NaN   \n",
       "48345          NaN          NaN          NaN          NaN          NaN   \n",
       "48346          NaN          NaN          NaN          NaN          NaN   \n",
       "48347          NaN          NaN          NaN          NaN          NaN   \n",
       "48348          NaN          NaN          NaN          NaN          NaN   \n",
       "48349          NaN          NaN          NaN          NaN          NaN   \n",
       "48350          NaN          NaN          NaN          NaN          NaN   \n",
       "48351          NaN          NaN          NaN          NaN          NaN   \n",
       "48352          NaN          NaN          NaN          NaN          NaN   \n",
       "\n",
       "      ExtraField20 MaxWindSpeed_mph                 ValidTime        Category  \\\n",
       "48328          NaN         138.0936 2024-10-07 12:00:00+00:00      Category 4   \n",
       "48329          NaN         138.0936 2024-10-07 12:00:00+00:00      Category 4   \n",
       "48330          NaN         138.0936 2024-10-07 12:00:00+00:00      Category 4   \n",
       "48331          NaN         155.3553 2024-10-07 15:00:00+00:00      Category 4   \n",
       "48332          NaN         155.3553 2024-10-07 15:00:00+00:00      Category 4   \n",
       "48333          NaN         155.3553 2024-10-07 15:00:00+00:00      Category 4   \n",
       "48334          NaN         166.8631 2024-10-08 00:00:00+00:00      Category 5   \n",
       "48335          NaN         166.8631 2024-10-08 00:00:00+00:00      Category 5   \n",
       "48336          NaN         166.8631 2024-10-08 00:00:00+00:00      Category 5   \n",
       "48337          NaN         161.1092 2024-10-08 12:00:00+00:00      Category 5   \n",
       "48338          NaN         161.1092 2024-10-08 12:00:00+00:00      Category 5   \n",
       "48339          NaN         161.1092 2024-10-08 12:00:00+00:00      Category 5   \n",
       "48340          NaN         155.3553 2024-10-09 00:00:00+00:00      Category 4   \n",
       "48341          NaN         155.3553 2024-10-09 00:00:00+00:00      Category 4   \n",
       "48342          NaN         155.3553 2024-10-09 00:00:00+00:00      Category 4   \n",
       "48343          NaN         143.8475 2024-10-09 12:00:00+00:00      Category 4   \n",
       "48344          NaN         143.8475 2024-10-09 12:00:00+00:00      Category 4   \n",
       "48345          NaN         143.8475 2024-10-09 12:00:00+00:00      Category 4   \n",
       "48346          NaN         126.5858 2024-10-10 00:00:00+00:00      Category 3   \n",
       "48347          NaN         126.5858 2024-10-10 00:00:00+00:00      Category 3   \n",
       "48348          NaN          92.0624 2024-10-10 12:00:00+00:00      Category 1   \n",
       "48349          NaN          92.0624 2024-10-10 12:00:00+00:00      Category 1   \n",
       "48350          NaN          63.2929 2024-10-11 12:00:00+00:00  Tropical Storm   \n",
       "48351          NaN          63.2929 2024-10-11 12:00:00+00:00  Tropical Storm   \n",
       "48352          NaN          51.7851 2024-10-12 12:00:00+00:00  Tropical Storm   \n",
       "\n",
       "                         geometry  \n",
       "48328  POINT (-92.20000 21.80000)  \n",
       "48329  POINT (-92.20000 21.80000)  \n",
       "48330  POINT (-92.20000 21.80000)  \n",
       "48331  POINT (-91.70000 21.70000)  \n",
       "48332  POINT (-91.70000 21.70000)  \n",
       "48333  POINT (-91.70000 21.70000)  \n",
       "48334  POINT (-90.40000 21.50000)  \n",
       "48335  POINT (-90.40000 21.50000)  \n",
       "48336  POINT (-90.40000 21.50000)  \n",
       "48337  POINT (-88.30000 22.20000)  \n",
       "48338  POINT (-88.30000 22.20000)  \n",
       "48339  POINT (-88.30000 22.20000)  \n",
       "48340  POINT (-86.40000 23.60000)  \n",
       "48341  POINT (-86.40000 23.60000)  \n",
       "48342  POINT (-86.40000 23.60000)  \n",
       "48343  POINT (-84.70000 25.50000)  \n",
       "48344  POINT (-84.70000 25.50000)  \n",
       "48345  POINT (-84.70000 25.50000)  \n",
       "48346  POINT (-82.80000 27.70000)  \n",
       "48347  POINT (-82.80000 27.70000)  \n",
       "48348  POINT (-80.10000 29.20000)  \n",
       "48349  POINT (-80.10000 29.20000)  \n",
       "48350  POINT (-71.00000 30.80000)  \n",
       "48351  POINT (-71.00000 30.80000)  \n",
       "48352  POINT (-66.00000 31.00000)  \n",
       "\n",
       "[25 rows x 50 columns]"
      ]
     },
     "execution_count": 61,
     "metadata": {},
     "output_type": "execute_result"
    }
   ],
   "source": [
    "d=f.read_adeck_dat_file_to_gdf('./forecast_data/aal142024.dat',forecast_datetime=timestamp_utc)\n",
    "ofcl_gdf=f.filter_adeck_gdf_for_official_model(d)\n",
    "ofcl_gdf"
   ]
  },
  {
   "cell_type": "code",
   "execution_count": 62,
   "metadata": {},
   "outputs": [
    {
     "data": {
      "text/plain": [
       "<Axes: >"
      ]
     },
     "execution_count": 62,
     "metadata": {},
     "output_type": "execute_result"
    },
    {
     "data": {
      "image/png": "[encoded data removed]",
      "text/plain": [
       "<Figure size 640x480 with 1 Axes>"
      ]
     },
     "metadata": {},
     "output_type": "display_data"
    }
   ],
   "source": [
    "cones.plot()"
   ]
  },
  {
   "cell_type": "code",
   "execution_count": 63,
   "metadata": {},
   "outputs": [],
   "source": [
    "intercepts=gpd.GeoDataFrame()\n",
    "for index, row in cones.iterrows():\n",
    "    row_gdf = gpd.GeoDataFrame([row], geometry='geometry', crs=cones.crs)\n",
    "    intercept=gpd.overlay(AOIs_buff,row_gdf)\n",
    "    intercepts=pd.concat([intercept,intercepts])\n",
    "\n",
    "intercepts=clean_strings(intercepts,'Name','ClientName')\n",
    "AOIs=clean_strings(AOIs,'Name','ClientName')"
   ]
  },
  {
   "cell_type": "code",
   "execution_count": 153,
   "metadata": {},
   "outputs": [
    {
     "name": "stdout",
     "output_type": "stream",
     "text": [
      "Removed 37 rows with Latitude or Longitude equal to 0.\n"
     ]
    },
    {
     "name": "stderr",
     "output_type": "stream",
     "text": [
      "c:\\ProgramData\\anaconda3\\envs\\EventMonitor\\Lib\\site-packages\\geopandas\\geodataframe.py:1543: SettingWithCopyWarning:\n",
      "\n",
      "\n",
      "A value is trying to be set on a copy of a slice from a DataFrame.\n",
      "Try using .loc[row_indexer,col_indexer] = value instead\n",
      "\n",
      "See the caveats in the documentation: https://pandas.pydata.org/pandas-docs/stable/user_guide/indexing.html#returning-a-view-versus-a-copy\n",
      "\n",
      "C:\\Users\\alvaro.farias\\AppData\\Local\\Temp\\3\\ipykernel_11968\\1859477117.py:275: UserWarning:\n",
      "\n",
      "Geometry is in a geographic CRS. Results from 'centroid' are likely incorrect. Use 'GeoSeries.to_crs()' to re-project geometries to a projected CRS before this operation.\n",
      "\n",
      "\n"
     ]
    },
    {
     "name": "stdout",
     "output_type": "stream",
     "text": [
      "Lockton Alert for Milton\n",
      "Email sent successfully.\n",
      "Removed 37 rows with Latitude or Longitude equal to 0.\n"
     ]
    },
    {
     "name": "stderr",
     "output_type": "stream",
     "text": [
      "c:\\ProgramData\\anaconda3\\envs\\EventMonitor\\Lib\\site-packages\\geopandas\\geodataframe.py:1543: SettingWithCopyWarning:\n",
      "\n",
      "\n",
      "A value is trying to be set on a copy of a slice from a DataFrame.\n",
      "Try using .loc[row_indexer,col_indexer] = value instead\n",
      "\n",
      "See the caveats in the documentation: https://pandas.pydata.org/pandas-docs/stable/user_guide/indexing.html#returning-a-view-versus-a-copy\n",
      "\n",
      "C:\\Users\\alvaro.farias\\AppData\\Local\\Temp\\3\\ipykernel_11968\\1859477117.py:275: UserWarning:\n",
      "\n",
      "Geometry is in a geographic CRS. Results from 'centroid' are likely incorrect. Use 'GeoSeries.to_crs()' to re-project geometries to a projected CRS before this operation.\n",
      "\n",
      "\n"
     ]
    },
    {
     "name": "stdout",
     "output_type": "stream",
     "text": [
      "Lockton Alert for Milton\n",
      "Email sent successfully.\n",
      "Removed 37 rows with Latitude or Longitude equal to 0.\n"
     ]
    },
    {
     "name": "stderr",
     "output_type": "stream",
     "text": [
      "c:\\ProgramData\\anaconda3\\envs\\EventMonitor\\Lib\\site-packages\\geopandas\\geodataframe.py:1543: SettingWithCopyWarning:\n",
      "\n",
      "\n",
      "A value is trying to be set on a copy of a slice from a DataFrame.\n",
      "Try using .loc[row_indexer,col_indexer] = value instead\n",
      "\n",
      "See the caveats in the documentation: https://pandas.pydata.org/pandas-docs/stable/user_guide/indexing.html#returning-a-view-versus-a-copy\n",
      "\n",
      "C:\\Users\\alvaro.farias\\AppData\\Local\\Temp\\3\\ipykernel_11968\\1859477117.py:275: UserWarning:\n",
      "\n",
      "Geometry is in a geographic CRS. Results from 'centroid' are likely incorrect. Use 'GeoSeries.to_crs()' to re-project geometries to a projected CRS before this operation.\n",
      "\n",
      "\n"
     ]
    },
    {
     "name": "stdout",
     "output_type": "stream",
     "text": [
      "Lockton Alert for Milton\n",
      "Email sent successfully.\n",
      "Removed 37 rows with Latitude or Longitude equal to 0.\n"
     ]
    },
    {
     "name": "stderr",
     "output_type": "stream",
     "text": [
      "c:\\ProgramData\\anaconda3\\envs\\EventMonitor\\Lib\\site-packages\\geopandas\\geodataframe.py:1543: SettingWithCopyWarning:\n",
      "\n",
      "\n",
      "A value is trying to be set on a copy of a slice from a DataFrame.\n",
      "Try using .loc[row_indexer,col_indexer] = value instead\n",
      "\n",
      "See the caveats in the documentation: https://pandas.pydata.org/pandas-docs/stable/user_guide/indexing.html#returning-a-view-versus-a-copy\n",
      "\n",
      "C:\\Users\\alvaro.farias\\AppData\\Local\\Temp\\3\\ipykernel_11968\\1859477117.py:275: UserWarning:\n",
      "\n",
      "Geometry is in a geographic CRS. Results from 'centroid' are likely incorrect. Use 'GeoSeries.to_crs()' to re-project geometries to a projected CRS before this operation.\n",
      "\n",
      "\n"
     ]
    },
    {
     "name": "stdout",
     "output_type": "stream",
     "text": [
      "Lockton Alert for Milton\n",
      "Email sent successfully.\n"
     ]
    }
   ],
   "source": [
    "affected_clients=intercepts['ClientName'].unique()\n",
    "if len(affected_clients)==0:\n",
    "    print(\"No clients affected by currently active storms\")\n",
    "else:\n",
    "    for affc in affected_clients:\n",
    "        rel_intercept=intercepts[intercepts['ClientName']==affc]\n",
    "        \n",
    "        for storm in rel_intercept[\"Storm_Name\"].unique():\n",
    "            rel_intercept=rel_intercept[rel_intercept['Storm_Name']==storm]\n",
    "            adeck_gdf=f.read_adeck_dat_file_to_gdf(rel_intercept['adeck_path'].unique()[0],forecast_datetime=timestamp_utc)#)\n",
    "            adeck_gdf=f.filter_adeck_gdf_for_official_model(adeck_gdf)\n",
    "            cone=cones[cones['Storm_Name']==storm]\n",
    "\n",
    "            logo_path='Z:\\\\Event_Monitor\\\\logos\\\\LOCKTON_logo-white-footer.svg'\n",
    "            Title=f\"Lockton Alert for {storm}\"\n",
    "\n",
    "            fig=create_forecast_map_with_cone_for_AOIs(adeck_gdf,cone,AOIs[AOIs['ClientName']==affc],AOI_Name='Name',title=Title,logo_url=logo_path)\n",
    "\n",
    "            filename=f\"client_storm_alerts/{affc}-{storm}-forecast-{timestamp_utc.strftime('%Y-%m-%d %H:%M')}.html\"\n",
    "            filename= filename.replace(':', '-')\n",
    "\n",
    "            fig.write_html(f'./{filename}')\n",
    "\n",
    "            #Send the email\n",
    "\n",
    "            # Define email parameters\n",
    "            recipients = ['alvaro.farias@lockton.com','DMonsalve@lockton.com']\n",
    "\n",
    "            subject = f'Forecast Map - {storm}'\n",
    "            body = f\"\"\"\n",
    "            <html>\n",
    "            <head></head>\n",
    "            <body>\n",
    "                <p>Dear Team,</p>\n",
    "                <p>Please find the attached forecast map for <b>{storm}</b> based on the Official Forecast made on <b>{timestamp_utc} UTC</b> </p>\n",
    "                <p>Best regards,<br>Lockton Storm Monitor</p>\n",
    "            </body>\n",
    "            </html>\n",
    "            \"\"\"\n",
    "\n",
    "            # Optional parameters\n",
    "            cc = ['']\n",
    "            bcc = ['']\n",
    "            sender = 'alvaro.farias@lockton.com'  # Optional: specify if needed\n",
    "\n",
    "            # Send the email\n",
    "            send_map_via_email(fig, recipients, subject, body, cc=cc, bcc=bcc, sender=sender)\n"
   ]
  },
  {
   "cell_type": "code",
   "execution_count": 143,
   "metadata": {},
   "outputs": [
    {
     "data": {
      "application/vnd.plotly.v1+json": {
       "config": {
        "plotlyServerURL": "https://plot.ly"
       },
       "data": [
        {
         "hoverinfo": "none",
         "lat": [
          21.8,
          21.8,
          21.8,
          21.7,
          21.7,
          21.7,
          21.5,
          21.5,
          21.5,
          22.2,
          22.2,
          22.2,
          23.6,
          23.6,
          23.6,
          25.5,
          25.5,
          25.5,
          27.7,
          27.7,
          29.2,
          29.2,
          30.8,
          30.8,
          31
         ],
         "line": {
          "color": "white",
          "width": 2
         },
         "lon": [
          -92.2,
          -92.2,
          -92.2,
          -91.7,
          -91.7,
          -91.7,
          -90.4,
          -90.4,
          -90.4,
          -88.3,
          -88.3,
          -88.3,
          -86.4,
          -86.4,
          -86.4,
          -84.7,
          -84.7,
          -84.7,
          -82.8,
          -82.8,
          -80.1,
          -80.1,
          -71,
          -71,
          -66
         ],
         "mode": "lines",
         "showlegend": false,
         "type": "scattermapbox"
        },
        {
         "hoverinfo": "text",
         "lat": [
          30.8,
          30.8,
          31
         ],
         "lon": [
          -71,
          -71,
          -66
         ],
         "marker": {
          "color": "blue",
          "size": 8
         },
         "mode": "markers",
         "name": "Tropical Storm",
         "text": [
          "Time: 2024-10-11 12:00 UTC<br>Wind Speed (mph): 63.3<br>Central Pressure (mb): 0<br>Category: Tropical Storm<br>Model: OFCL",
          "Time: 2024-10-11 12:00 UTC<br>Wind Speed (mph): 63.3<br>Central Pressure (mb): 0<br>Category: Tropical Storm<br>Model: OFCL",
          "Time: 2024-10-12 12:00 UTC<br>Wind Speed (mph): 51.8<br>Central Pressure (mb): 0<br>Category: Tropical Storm<br>Model: OFCL"
         ],
         "type": "scattermapbox"
        },
        {
         "hoverinfo": "text",
         "lat": [
          29.2,
          29.2
         ],
         "lon": [
          -80.1,
          -80.1
         ],
         "marker": {
          "color": "yellow",
          "size": 8
         },
         "mode": "markers",
         "name": "Category 1",
         "text": [
          "Time: 2024-10-10 12:00 UTC<br>Wind Speed (mph): 92.1<br>Central Pressure (mb): 0<br>Category: Category 1<br>Model: OFCL",
          "Time: 2024-10-10 12:00 UTC<br>Wind Speed (mph): 92.1<br>Central Pressure (mb): 0<br>Category: Category 1<br>Model: OFCL"
         ],
         "type": "scattermapbox"
        },
        {
         "hoverinfo": "text",
         "lat": [
          27.7,
          27.7
         ],
         "lon": [
          -82.8,
          -82.8
         ],
         "marker": {
          "color": "red",
          "size": 8
         },
         "mode": "markers",
         "name": "Category 3",
         "text": [
          "Time: 2024-10-10 00:00 UTC<br>Wind Speed (mph): 126.6<br>Central Pressure (mb): 0<br>Category: Category 3<br>Model: OFCL",
          "Time: 2024-10-10 00:00 UTC<br>Wind Speed (mph): 126.6<br>Central Pressure (mb): 0<br>Category: Category 3<br>Model: OFCL"
         ],
         "type": "scattermapbox"
        },
        {
         "hoverinfo": "text",
         "lat": [
          21.8,
          21.8,
          21.8,
          21.7,
          21.7,
          21.7,
          23.6,
          23.6,
          23.6,
          25.5,
          25.5,
          25.5
         ],
         "lon": [
          -92.2,
          -92.2,
          -92.2,
          -91.7,
          -91.7,
          -91.7,
          -86.4,
          -86.4,
          -86.4,
          -84.7,
          -84.7,
          -84.7
         ],
         "marker": {
          "color": "purple",
          "size": 8
         },
         "mode": "markers",
         "name": "Category 4",
         "text": [
          "Time: 2024-10-07 12:00 UTC<br>Wind Speed (mph): 138.1<br>Central Pressure (mb): 0<br>Category: Category 4<br>Model: OFCL",
          "Time: 2024-10-07 12:00 UTC<br>Wind Speed (mph): 138.1<br>Central Pressure (mb): 0<br>Category: Category 4<br>Model: OFCL",
          "Time: 2024-10-07 12:00 UTC<br>Wind Speed (mph): 138.1<br>Central Pressure (mb): 0<br>Category: Category 4<br>Model: OFCL",
          "Time: 2024-10-07 15:00 UTC<br>Wind Speed (mph): 155.4<br>Central Pressure (mb): 933<br>Category: Category 4<br>Model: OFCL",
          "Time: 2024-10-07 15:00 UTC<br>Wind Speed (mph): 155.4<br>Central Pressure (mb): 933<br>Category: Category 4<br>Model: OFCL",
          "Time: 2024-10-07 15:00 UTC<br>Wind Speed (mph): 155.4<br>Central Pressure (mb): 933<br>Category: Category 4<br>Model: OFCL",
          "Time: 2024-10-09 00:00 UTC<br>Wind Speed (mph): 155.4<br>Central Pressure (mb): 0<br>Category: Category 4<br>Model: OFCL",
          "Time: 2024-10-09 00:00 UTC<br>Wind Speed (mph): 155.4<br>Central Pressure (mb): 0<br>Category: Category 4<br>Model: OFCL",
          "Time: 2024-10-09 00:00 UTC<br>Wind Speed (mph): 155.4<br>Central Pressure (mb): 0<br>Category: Category 4<br>Model: OFCL",
          "Time: 2024-10-09 12:00 UTC<br>Wind Speed (mph): 143.8<br>Central Pressure (mb): 0<br>Category: Category 4<br>Model: OFCL",
          "Time: 2024-10-09 12:00 UTC<br>Wind Speed (mph): 143.8<br>Central Pressure (mb): 0<br>Category: Category 4<br>Model: OFCL",
          "Time: 2024-10-09 12:00 UTC<br>Wind Speed (mph): 143.8<br>Central Pressure (mb): 0<br>Category: Category 4<br>Model: OFCL"
         ],
         "type": "scattermapbox"
        },
        {
         "hoverinfo": "text",
         "lat": [
          21.5,
          21.5,
          21.5,
          22.2,
          22.2,
          22.2
         ],
         "lon": [
          -90.4,
          -90.4,
          -90.4,
          -88.3,
          -88.3,
          -88.3
         ],
         "marker": {
          "color": "magenta",
          "size": 8
         },
         "mode": "markers",
         "name": "Category 5",
         "text": [
          "Time: 2024-10-08 00:00 UTC<br>Wind Speed (mph): 166.9<br>Central Pressure (mb): 0<br>Category: Category 5<br>Model: OFCL",
          "Time: 2024-10-08 00:00 UTC<br>Wind Speed (mph): 166.9<br>Central Pressure (mb): 0<br>Category: Category 5<br>Model: OFCL",
          "Time: 2024-10-08 00:00 UTC<br>Wind Speed (mph): 166.9<br>Central Pressure (mb): 0<br>Category: Category 5<br>Model: OFCL",
          "Time: 2024-10-08 12:00 UTC<br>Wind Speed (mph): 161.1<br>Central Pressure (mb): 0<br>Category: Category 5<br>Model: OFCL",
          "Time: 2024-10-08 12:00 UTC<br>Wind Speed (mph): 161.1<br>Central Pressure (mb): 0<br>Category: Category 5<br>Model: OFCL",
          "Time: 2024-10-08 12:00 UTC<br>Wind Speed (mph): 161.1<br>Central Pressure (mb): 0<br>Category: Category 5<br>Model: OFCL"
         ],
         "type": "scattermapbox"
        },
        {
         "fill": "toself",
         "fillcolor": "rgba(128, 128, 128, 0.5)",
         "hoverinfo": "skip",
         "lat": [
          21.07078475234578,
          21.070348611135895,
          21.07403752216453,
          21.08181488235307,
          21.093605114768117,
          21.10929442425008,
          21.128731905471444,
          21.151730992065566,
          21.178071232759468,
          21.20750037789913,
          21.2397367573774,
          21.274471928761518,
          21.311373572366943,
          21.350088608130193,
          21.39024650739127,
          21.431462771099312,
          21.473342544501914,
          21.51548433706957,
          21.557483815246986,
          21.598937634624985,
          21.639447277305816,
          21.678622859615334,
          21.71608687492424,
          21.751477836210917,
          21.784453783163404,
          21.81469561911479,
          21.841910243966417,
          21.865833450507697,
          21.886232553212118,
          22.76207081988616,
          24.181841541123408,
          26.1171834250116,
          28.49143416056422,
          28.609474632004165,
          28.7187648878182,
          28.818223714071323,
          30.52043380469573,
          30.620394029096158,
          30.706521037227116,
          30.777946431386898,
          33.183329146780906,
          34.47745661353127,
          34.54824457037491,
          34.58313849171411,
          34.58188500175385,
          34.544638810740075,
          34.47195539823104,
          34.36477688042994,
          34.2244116730273,
          34.05250878852274,
          33.851027775980484,
          33.62220541139079,
          33.36852027503741,
          33.092656312036105,
          32.797466372736366,
          32.48593658423528,
          32.161152228296636,
          31.826265610334488,
          31.48446621352074,
          31.13895325402972,
          30.792910597646955,
          30.449483871152776,
          30.44948387115275,
          30.11175950787457,
          29.782745406876426,
          29.465352858610434,
          29.162379394035582,
          28.87649224552699,
          28.61021216178248,
          28.365897390210208,
          28.145727723395343,
          27.95168859545589,
          27.785555303665227,
          27.64887751510701,
          27.542964292236245,
          27.468869930642114,
          27.427380943600145,
          27.419004548932552,
          27.443959013452815,
          27.502166189567617,
          28.292272853721048,
          27.551993447283113,
          26.504801837358936,
          24.693295361755847,
          22.974498098642673,
          22.911921108660334,
          22.855966209515564,
          22.807163420067674,
          21.614606766009,
          21.58332049285239,
          21.557960815320627,
          21.538767017348587,
          21.083981732731132,
          21.075343180316246,
          21.07078475234578
         ],
         "line": {
          "color": "lightgrey",
          "width": 2
         },
         "lon": [
          -90.37251530035238,
          -90.41746815022346,
          -90.46224666018252,
          -90.50642356904673,
          -90.54957749750136,
          -90.59129685508385,
          -90.63118365434497,
          -90.66885720084628,
          -90.70395762869973,
          -90.73614925251016,
          -90.76512370783995,
          -90.79060285367014,
          -90.81234141178628,
          -90.83012931957758,
          -90.8437937744184,
          -90.85320094962097,
          -90.85825736393086,
          -90.85891088871017,
          -90.85515137934375,
          -90.84701092003984,
          -90.83456367409772,
          -90.81792533489961,
          -90.79725217635526,
          -90.77273970528073,
          -90.74462092220557,
          -90.71316420133863,
          -90.67867080483055,
          -90.64147205097976,
          -90.60192616055718,
          -88.72986689816341,
          -87.17662370465013,
          -85.79555649780623,
          -84.1970603688401,
          -84.10325798467777,
          -83.99658860389776,
          -83.8780627785979,
          -81.33715468134193,
          -81.18214185065096,
          -81.01625118455782,
          -80.84112584199127,
          -71.87658371733772,
          -67.06897563746568,
          -66.65098035173736,
          -66.22667253211165,
          -65.80074155346044,
          -65.37787061567377,
          -64.96266291343959,
          -64.55957125214186,
          -64.17283336521493,
          -63.80641481162307,
          -63.4639608460212,
          -63.148758106821695,
          -62.863706409720564,
          -62.61130041323634,
          -62.39362047648304,
          -62.212331683545095,
          -62.06868977608286,
          -61.96355261656119,
          -61.89739578920029,
          -61.8703310179106,
          -61.88212621980025,
          -61.93222619801257,
          -61.93222619801257,
          -62.01977318843572,
          -62.143626693520176,
          -62.30238224857508,
          -62.49438896045491,
          -62.717765827705705,
          -62.97041699006103,
          -63.25004616109236,
          -63.554170570169966,
          -63.880134779584616,
          -64.22512475189501,
          -64.58618252456039,
          -64.96022180788718,
          -65.34404476325071,
          -65.73436014706652,
          -66.12780292809649,
          -66.52095540748941,
          -66.91036979830781,
          -71.20109683942117,
          -79.51620926027847,
          -81.80868926071794,
          -83.77053288072625,
          -85.67395884342773,
          -85.74386075331385,
          -85.81998319419095,
          -85.90159415627004,
          -87.92617303616964,
          -87.98939725743621,
          -88.05556523606045,
          -88.12404467828718,
          -90.28380120213995,
          -90.32781728607307,
          -90.37251530035238
         ],
         "mode": "lines",
         "name": "Uncertainty Cone",
         "type": "scattermapbox"
        },
        {
         "fill": "toself",
         "fillcolor": "rgba(0, 255, 0, 0.2)",
         "hoverinfo": "skip",
         "lat": [
          21.68867113800007,
          21.68736757600004,
          21.68438229600002,
          21.67972684800003,
          21.67341924200002,
          21.66548388200005,
          21.65595146700002,
          21.64485887700005,
          21.63224902800005,
          21.61817070300003,
          21.60267837000004,
          21.58583196500007,
          21.56769666400004,
          21.54834262800006,
          21.52784473500003,
          21.50628228600004,
          21.48373870400007,
          21.46030120400007,
          21.43606046200006,
          21.41111026100003,
          21.38554712700005,
          21.35946996100006,
          21.33297964800005,
          21.30617867600006,
          21.27917073100002,
          21.25206030300006,
          21.22495227600007,
          21.19795152700004,
          21.17116251500005,
          21.14468888200003,
          21.11863305000003,
          21.09309582300006,
          21.068176,
          21.04396999100004,
          21.02057144500003,
          20.99807088500006,
          20.97655536300005,
          20.95610811700004,
          20.93680825300004,
          20.91873044000005,
          20.90194461700003,
          20.88651572500004,
          20.87250345500007,
          20.85996201900002,
          20.84893993500003,
          20.83947984800005,
          20.83161835500005,
          20.82538587200003,
          20.82080651100006,
          20.81789798800003,
          20.81667155600007,
          20.81713196100003,
          20.81927741900006,
          20.82309963200004,
          20.82858381200003,
          20.83570874200007,
          20.84444685600005,
          20.85476434900005,
          20.86662130400003,
          20.87997184900007,
          20.89476433300007,
          20.91094152700003,
          20.92844084500007,
          20.94719458500003,
          20.96713019300006,
          20.98817054100004,
          21.01023422900005,
          21.03323589700005,
          21.05708655400002,
          21.08169392900004,
          21.10696282000004,
          21.13279546600006,
          21.15909192500004,
          21.18575046300003,
          21.21266794200005,
          21.23974022300007,
          21.26686257000006,
          21.29393005200006,
          21.32083794800008,
          21.34748215900004,
          21.37375960200006,
          21.39956861600007,
          21.42480935000003,
          21.44938415300004,
          21.47319795000004,
          21.49615861000007,
          21.51817730200003,
          21.53916884000006,
          21.55905201200005,
          21.57774989500007,
          21.59519014900008,
          21.61130530200006,
          21.62603300700005,
          21.63931628600005,
          21.65110374800003,
          21.66134978900004,
          21.67001477100007,
          21.67706516900006,
          21.68247370700004,
          21.68621946100006,
          21.68828793900008,
          21.68867113800007
         ],
         "line": {
          "color": "green",
          "width": 2
         },
         "lon": [
          -86.82018602899996,
          -86.84727705899996,
          -86.87423464299997,
          -86.90095448499994,
          -86.92733321399999,
          -86.953268773,
          -86.97866082499996,
          -87.00341113099995,
          -87.02742393699998,
          -87.05060634399996,
          -87.07286866199996,
          -87.09412476299997,
          -87.11429241199994,
          -87.13329358199996,
          -87.15105476399998,
          -87.16750724199994,
          -87.18258736399997,
          -87.19623678899995,
          -87.20840270999997,
          -87.21903805799997,
          -87.22810168899997,
          -87.23555853599998,
          -87.24137975099995,
          -87.24554281199994,
          -87.24803161299997,
          -87.248836526,
          -87.24795443599999,
          -87.24538875599995,
          -87.24114941299996,
          -87.23525280699994,
          -87.227721751,
          -87.21858538199996,
          -87.20787904599996,
          -87.19564416399999,
          -87.18192807099996,
          -87.16678382999999,
          -87.15027003399996,
          -87.13245056899996,
          -87.11339437599997,
          -87.09317518099994,
          -87.07187120599997,
          -87.04956487299995,
          -87.02634248099997,
          -87.00229387299999,
          -86.97751208799997,
          -86.95209300199997,
          -86.92613495599994,
          -86.89973837799994,
          -86.87300538999995,
          -86.84603941699999,
          -86.81894478499999,
          -86.79182631899994,
          -86.76478893299998,
          -86.73793723199998,
          -86.71137509799996,
          -86.68520529499995,
          -86.65952906899997,
          -86.63444575699998,
          -86.61005240199995,
          -86.58644337499999,
          -86.56371001599996,
          -86.54194027599993,
          -86.52121837799996,
          -86.50162448999998,
          -86.48323441799994,
          -86.46611930999995,
          -86.45034537999999,
          -86.43597365399995,
          -86.42305973499998,
          -86.41165358299997,
          -86.40179932599995,
          -86.39353508999994,
          -86.38689284599997,
          -86.38189829199996,
          -86.37857075099998,
          -86.37692309699997,
          -86.37696170499999,
          -86.37868642399997,
          -86.38209058199999,
          -86.38716100899995,
          -86.39387808899994,
          -86.40221583499994,
          -86.41214198899996,
          -86.42361814899994,
          -86.43659991599998,
          -86.45103706699996,
          -86.46687374599998,
          -86.48404868399996,
          -86.50249543599995,
          -86.52214263399998,
          -86.54291426599997,
          -86.56472997299994,
          -86.58750535199994,
          -86.61115229099994,
          -86.63557930299999,
          -86.66069188599994,
          -86.68639288399999,
          -86.71258286499994,
          -86.73916050399998,
          -86.76602297799997,
          -86.793066362,
          -86.82018602899996
         ],
         "mode": "lines",
         "name": "Atelier de Hoteles Mexico 30 mi",
         "type": "scattermapbox"
        }
       ],
       "layout": {
        "images": [
         {
          "layer": "above",
          "sizex": 5,
          "sizey": 10,
          "source": "Z:\\Event_Monitor\\logos\\LOCKTON_logo-white-footer.svg",
          "x": 0.5,
          "xanchor": "left",
          "xref": "paper",
          "y": 0.5,
          "yanchor": "top",
          "yref": "paper"
         }
        ],
        "mapbox": {
         "accesstoken": "pk.eyJ1IjoiYWx2YXJvZmFyaWFzIiwiYSI6ImNtMXptbm9iaDA4OHMybG9vc3VqdW1vZ3oifQ.ZJ8d6gNAiR1htIYxESOYuQ",
         "center": {
          "lat": 21.252681000142015,
          "lon": -86.8127840002724
         },
         "style": "carto-darkmatter",
         "zoom": 5
        },
        "margin": {
         "b": 0,
         "l": 0,
         "r": 0,
         "t": 50
        },
        "template": {
         "data": {
          "bar": [
           {
            "error_x": {
             "color": "#f2f5fa"
            },
            "error_y": {
             "color": "#f2f5fa"
            },
            "marker": {
             "line": {
              "color": "rgb(17,17,17)",
              "width": 0.5
             },
             "pattern": {
              "fillmode": "overlay",
              "size": 10,
              "solidity": 0.2
             }
            },
            "type": "bar"
           }
          ],
          "barpolar": [
           {
            "marker": {
             "line": {
              "color": "rgb(17,17,17)",
              "width": 0.5
             },
             "pattern": {
              "fillmode": "overlay",
              "size": 10,
              "solidity": 0.2
             }
            },
            "type": "barpolar"
           }
          ],
          "carpet": [
           {
            "aaxis": {
             "endlinecolor": "#A2B1C6",
             "gridcolor": "#506784",
             "linecolor": "#506784",
             "minorgridcolor": "#506784",
             "startlinecolor": "#A2B1C6"
            },
            "baxis": {
             "endlinecolor": "#A2B1C6",
             "gridcolor": "#506784",
             "linecolor": "#506784",
             "minorgridcolor": "#506784",
             "startlinecolor": "#A2B1C6"
            },
            "type": "carpet"
           }
          ],
          "choropleth": [
           {
            "colorbar": {
             "outlinewidth": 0,
             "ticks": ""
            },
            "type": "choropleth"
           }
          ],
          "contour": [
           {
            "colorbar": {
             "outlinewidth": 0,
             "ticks": ""
            },
            "colorscale": [
             [
              0,
              "#0d0887"
             ],
             [
              0.1111111111111111,
              "#46039f"
             ],
             [
              0.2222222222222222,
              "#7201a8"
             ],
             [
              0.3333333333333333,
              "#9c179e"
             ],
             [
              0.4444444444444444,
              "#bd3786"
             ],
             [
              0.5555555555555556,
              "#d8576b"
             ],
             [
              0.6666666666666666,
              "#ed7953"
             ],
             [
              0.7777777777777778,
              "#fb9f3a"
             ],
             [
              0.8888888888888888,
              "#fdca26"
             ],
             [
              1,
              "#f0f921"
             ]
            ],
            "type": "contour"
           }
          ],
          "contourcarpet": [
           {
            "colorbar": {
             "outlinewidth": 0,
             "ticks": ""
            },
            "type": "contourcarpet"
           }
          ],
          "heatmap": [
           {
            "colorbar": {
             "outlinewidth": 0,
             "ticks": ""
            },
            "colorscale": [
             [
              0,
              "#0d0887"
             ],
             [
              0.1111111111111111,
              "#46039f"
             ],
             [
              0.2222222222222222,
              "#7201a8"
             ],
             [
              0.3333333333333333,
              "#9c179e"
             ],
             [
              0.4444444444444444,
              "#bd3786"
             ],
             [
              0.5555555555555556,
              "#d8576b"
             ],
             [
              0.6666666666666666,
              "#ed7953"
             ],
             [
              0.7777777777777778,
              "#fb9f3a"
             ],
             [
              0.8888888888888888,
              "#fdca26"
             ],
             [
              1,
              "#f0f921"
             ]
            ],
            "type": "heatmap"
           }
          ],
          "heatmapgl": [
           {
            "colorbar": {
             "outlinewidth": 0,
             "ticks": ""
            },
            "colorscale": [
             [
              0,
              "#0d0887"
             ],
             [
              0.1111111111111111,
              "#46039f"
             ],
             [
              0.2222222222222222,
              "#7201a8"
             ],
             [
              0.3333333333333333,
              "#9c179e"
             ],
             [
              0.4444444444444444,
              "#bd3786"
             ],
             [
              0.5555555555555556,
              "#d8576b"
             ],
             [
              0.6666666666666666,
              "#ed7953"
             ],
             [
              0.7777777777777778,
              "#fb9f3a"
             ],
             [
              0.8888888888888888,
              "#fdca26"
             ],
             [
              1,
              "#f0f921"
             ]
            ],
            "type": "heatmapgl"
           }
          ],
          "histogram": [
           {
            "marker": {
             "pattern": {
              "fillmode": "overlay",
              "size": 10,
              "solidity": 0.2
             }
            },
            "type": "histogram"
           }
          ],
          "histogram2d": [
           {
            "colorbar": {
             "outlinewidth": 0,
             "ticks": ""
            },
            "colorscale": [
             [
              0,
              "#0d0887"
             ],
             [
              0.1111111111111111,
              "#46039f"
             ],
             [
              0.2222222222222222,
              "#7201a8"
             ],
             [
              0.3333333333333333,
              "#9c179e"
             ],
             [
              0.4444444444444444,
              "#bd3786"
             ],
             [
              0.5555555555555556,
              "#d8576b"
             ],
             [
              0.6666666666666666,
              "#ed7953"
             ],
             [
              0.7777777777777778,
              "#fb9f3a"
             ],
             [
              0.8888888888888888,
              "#fdca26"
             ],
             [
              1,
              "#f0f921"
             ]
            ],
            "type": "histogram2d"
           }
          ],
          "histogram2dcontour": [
           {
            "colorbar": {
             "outlinewidth": 0,
             "ticks": ""
            },
            "colorscale": [
             [
              0,
              "#0d0887"
             ],
             [
              0.1111111111111111,
              "#46039f"
             ],
             [
              0.2222222222222222,
              "#7201a8"
             ],
             [
              0.3333333333333333,
              "#9c179e"
             ],
             [
              0.4444444444444444,
              "#bd3786"
             ],
             [
              0.5555555555555556,
              "#d8576b"
             ],
             [
              0.6666666666666666,
              "#ed7953"
             ],
             [
              0.7777777777777778,
              "#fb9f3a"
             ],
             [
              0.8888888888888888,
              "#fdca26"
             ],
             [
              1,
              "#f0f921"
             ]
            ],
            "type": "histogram2dcontour"
           }
          ],
          "mesh3d": [
           {
            "colorbar": {
             "outlinewidth": 0,
             "ticks": ""
            },
            "type": "mesh3d"
           }
          ],
          "parcoords": [
           {
            "line": {
             "colorbar": {
              "outlinewidth": 0,
              "ticks": ""
             }
            },
            "type": "parcoords"
           }
          ],
          "pie": [
           {
            "automargin": true,
            "type": "pie"
           }
          ],
          "scatter": [
           {
            "marker": {
             "line": {
              "color": "#283442"
             }
            },
            "type": "scatter"
           }
          ],
          "scatter3d": [
           {
            "line": {
             "colorbar": {
              "outlinewidth": 0,
              "ticks": ""
             }
            },
            "marker": {
             "colorbar": {
              "outlinewidth": 0,
              "ticks": ""
             }
            },
            "type": "scatter3d"
           }
          ],
          "scattercarpet": [
           {
            "marker": {
             "colorbar": {
              "outlinewidth": 0,
              "ticks": ""
             }
            },
            "type": "scattercarpet"
           }
          ],
          "scattergeo": [
           {
            "marker": {
             "colorbar": {
              "outlinewidth": 0,
              "ticks": ""
             }
            },
            "type": "scattergeo"
           }
          ],
          "scattergl": [
           {
            "marker": {
             "line": {
              "color": "#283442"
             }
            },
            "type": "scattergl"
           }
          ],
          "scattermapbox": [
           {
            "marker": {
             "colorbar": {
              "outlinewidth": 0,
              "ticks": ""
             }
            },
            "type": "scattermapbox"
           }
          ],
          "scatterpolar": [
           {
            "marker": {
             "colorbar": {
              "outlinewidth": 0,
              "ticks": ""
             }
            },
            "type": "scatterpolar"
           }
          ],
          "scatterpolargl": [
           {
            "marker": {
             "colorbar": {
              "outlinewidth": 0,
              "ticks": ""
             }
            },
            "type": "scatterpolargl"
           }
          ],
          "scatterternary": [
           {
            "marker": {
             "colorbar": {
              "outlinewidth": 0,
              "ticks": ""
             }
            },
            "type": "scatterternary"
           }
          ],
          "surface": [
           {
            "colorbar": {
             "outlinewidth": 0,
             "ticks": ""
            },
            "colorscale": [
             [
              0,
              "#0d0887"
             ],
             [
              0.1111111111111111,
              "#46039f"
             ],
             [
              0.2222222222222222,
              "#7201a8"
             ],
             [
              0.3333333333333333,
              "#9c179e"
             ],
             [
              0.4444444444444444,
              "#bd3786"
             ],
             [
              0.5555555555555556,
              "#d8576b"
             ],
             [
              0.6666666666666666,
              "#ed7953"
             ],
             [
              0.7777777777777778,
              "#fb9f3a"
             ],
             [
              0.8888888888888888,
              "#fdca26"
             ],
             [
              1,
              "#f0f921"
             ]
            ],
            "type": "surface"
           }
          ],
          "table": [
           {
            "cells": {
             "fill": {
              "color": "#506784"
             },
             "line": {
              "color": "rgb(17,17,17)"
             }
            },
            "header": {
             "fill": {
              "color": "#2a3f5f"
             },
             "line": {
              "color": "rgb(17,17,17)"
             }
            },
            "type": "table"
           }
          ]
         },
         "layout": {
          "annotationdefaults": {
           "arrowcolor": "#f2f5fa",
           "arrowhead": 0,
           "arrowwidth": 1
          },
          "autotypenumbers": "strict",
          "coloraxis": {
           "colorbar": {
            "outlinewidth": 0,
            "ticks": ""
           }
          },
          "colorscale": {
           "diverging": [
            [
             0,
             "#8e0152"
            ],
            [
             0.1,
             "#c51b7d"
            ],
            [
             0.2,
             "#de77ae"
            ],
            [
             0.3,
             "#f1b6da"
            ],
            [
             0.4,
             "#fde0ef"
            ],
            [
             0.5,
             "#f7f7f7"
            ],
            [
             0.6,
             "#e6f5d0"
            ],
            [
             0.7,
             "#b8e186"
            ],
            [
             0.8,
             "#7fbc41"
            ],
            [
             0.9,
             "#4d9221"
            ],
            [
             1,
             "#276419"
            ]
           ],
           "sequential": [
            [
             0,
             "#0d0887"
            ],
            [
             0.1111111111111111,
             "#46039f"
            ],
            [
             0.2222222222222222,
             "#7201a8"
            ],
            [
             0.3333333333333333,
             "#9c179e"
            ],
            [
             0.4444444444444444,
             "#bd3786"
            ],
            [
             0.5555555555555556,
             "#d8576b"
            ],
            [
             0.6666666666666666,
             "#ed7953"
            ],
            [
             0.7777777777777778,
             "#fb9f3a"
            ],
            [
             0.8888888888888888,
             "#fdca26"
            ],
            [
             1,
             "#f0f921"
            ]
           ],
           "sequentialminus": [
            [
             0,
             "#0d0887"
            ],
            [
             0.1111111111111111,
             "#46039f"
            ],
            [
             0.2222222222222222,
             "#7201a8"
            ],
            [
             0.3333333333333333,
             "#9c179e"
            ],
            [
             0.4444444444444444,
             "#bd3786"
            ],
            [
             0.5555555555555556,
             "#d8576b"
            ],
            [
             0.6666666666666666,
             "#ed7953"
            ],
            [
             0.7777777777777778,
             "#fb9f3a"
            ],
            [
             0.8888888888888888,
             "#fdca26"
            ],
            [
             1,
             "#f0f921"
            ]
           ]
          },
          "colorway": [
           "#636efa",
           "#EF553B",
           "#00cc96",
           "#ab63fa",
           "#FFA15A",
           "#19d3f3",
           "#FF6692",
           "#B6E880",
           "#FF97FF",
           "#FECB52"
          ],
          "font": {
           "color": "#f2f5fa"
          },
          "geo": {
           "bgcolor": "rgb(17,17,17)",
           "lakecolor": "rgb(17,17,17)",
           "landcolor": "rgb(17,17,17)",
           "showlakes": true,
           "showland": true,
           "subunitcolor": "#506784"
          },
          "hoverlabel": {
           "align": "left"
          },
          "hovermode": "closest",
          "mapbox": {
           "style": "dark"
          },
          "paper_bgcolor": "rgb(17,17,17)",
          "plot_bgcolor": "rgb(17,17,17)",
          "polar": {
           "angularaxis": {
            "gridcolor": "#506784",
            "linecolor": "#506784",
            "ticks": ""
           },
           "bgcolor": "rgb(17,17,17)",
           "radialaxis": {
            "gridcolor": "#506784",
            "linecolor": "#506784",
            "ticks": ""
           }
          },
          "scene": {
           "xaxis": {
            "backgroundcolor": "rgb(17,17,17)",
            "gridcolor": "#506784",
            "gridwidth": 2,
            "linecolor": "#506784",
            "showbackground": true,
            "ticks": "",
            "zerolinecolor": "#C8D4E3"
           },
           "yaxis": {
            "backgroundcolor": "rgb(17,17,17)",
            "gridcolor": "#506784",
            "gridwidth": 2,
            "linecolor": "#506784",
            "showbackground": true,
            "ticks": "",
            "zerolinecolor": "#C8D4E3"
           },
           "zaxis": {
            "backgroundcolor": "rgb(17,17,17)",
            "gridcolor": "#506784",
            "gridwidth": 2,
            "linecolor": "#506784",
            "showbackground": true,
            "ticks": "",
            "zerolinecolor": "#C8D4E3"
           }
          },
          "shapedefaults": {
           "line": {
            "color": "#f2f5fa"
           }
          },
          "sliderdefaults": {
           "bgcolor": "#C8D4E3",
           "bordercolor": "rgb(17,17,17)",
           "borderwidth": 1,
           "tickwidth": 0
          },
          "ternary": {
           "aaxis": {
            "gridcolor": "#506784",
            "linecolor": "#506784",
            "ticks": ""
           },
           "baxis": {
            "gridcolor": "#506784",
            "linecolor": "#506784",
            "ticks": ""
           },
           "bgcolor": "rgb(17,17,17)",
           "caxis": {
            "gridcolor": "#506784",
            "linecolor": "#506784",
            "ticks": ""
           }
          },
          "title": {
           "x": 0.05
          },
          "updatemenudefaults": {
           "bgcolor": "#506784",
           "borderwidth": 0
          },
          "xaxis": {
           "automargin": true,
           "gridcolor": "#283442",
           "linecolor": "#506784",
           "ticks": "",
           "title": {
            "standoff": 15
           },
           "zerolinecolor": "#283442",
           "zerolinewidth": 2
          },
          "yaxis": {
           "automargin": true,
           "gridcolor": "#283442",
           "linecolor": "#506784",
           "ticks": "",
           "title": {
            "standoff": 15
           },
           "zerolinecolor": "#283442",
           "zerolinewidth": 2
          }
         }
        },
        "title": {
         "font": {
          "color": "white",
          "size": 20
         },
         "text": "Lockton Alert for Milton",
         "x": 0.5
        }
       }
      }
     },
     "metadata": {},
     "output_type": "display_data"
    }
   ],
   "source": [
    "fig.show()"
   ]
  },
  {
   "cell_type": "code",
   "execution_count": 141,
   "metadata": {},
   "outputs": [],
   "source": []
  },
  {
   "cell_type": "code",
   "execution_count": 19,
   "metadata": {},
   "outputs": [],
   "source": []
  }
 ],
 "metadata": {
  "kernelspec": {
   "display_name": "EventMonitor",
   "language": "python",
   "name": "python3"
  },
  "language_info": {
   "codemirror_mode": {
    "name": "ipython",
    "version": 3
   },
   "file_extension": ".py",
   "mimetype": "text/x-python",
   "name": "python",
   "nbconvert_exporter": "python",
   "pygments_lexer": "ipython3",
   "version": "3.12.5"
  }
 },
 "nbformat": 4,
 "nbformat_minor": 2
}
